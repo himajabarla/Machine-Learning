{
 "cells": [
  {
   "cell_type": "code",
   "execution_count": 136,
   "metadata": {},
   "outputs": [],
   "source": [
    "import numpy as np\n",
    "import pandas as pd\n",
    "from sklearn.model_selection import train_test_split, cross_val_score, learning_curve, RandomizedSearchCV, cross_validate, GridSearchCV\n",
    "import copy\n",
    "from sklearn import preprocessing\n",
    "from sklearn.preprocessing import OneHotEncoder, StandardScaler\n",
    "from sklearn.linear_model import LogisticRegression\n",
    "from sklearn.metrics import accuracy_score, classification_report, confusion_matrix, roc_auc_score, roc_curve, auc, precision_recall_curve\n",
    "from sklearn.naive_bayes import GaussianNB\n",
    "from collections import defaultdict\n",
    "import matplotlib.pyplot as plt\n",
    "from mlxtend.plotting import plot_decision_regions\n",
    "from sklearn.svm import SVC, LinearSVC\n",
    "from sklearn import svm, tree\n",
    "from sklearn.ensemble import RandomForestClassifier, GradientBoostingClassifier, AdaBoostClassifier\n",
    "from imblearn.over_sampling import SMOTE\n",
    "from sklearn.neighbors import KNeighborsClassifier\n",
    "from sklearn.neural_network import MLPClassifier\n",
    "from numpy import loadtxt\n",
    "from keras.models import Sequential\n",
    "from keras.layers import Dense\n",
    "from keras import optimizers\n",
    "from keras.wrappers.scikit_learn import KerasClassifier\n",
    "import warnings\n",
    "warnings.filterwarnings('ignore')"
   ]
  },
  {
   "cell_type": "code",
   "execution_count": 2,
   "metadata": {},
   "outputs": [],
   "source": []
  },
  {
   "cell_type": "code",
   "execution_count": 74,
   "metadata": {},
   "outputs": [],
   "source": []
  },
  {
   "cell_type": "markdown",
   "metadata": {},
   "source": [
    "### Data Preprocessing"
   ]
  },
  {
   "cell_type": "markdown",
   "metadata": {},
   "source": [
    "##### Appliances Energy Dataset "
   ]
  },
  {
   "cell_type": "code",
   "execution_count": 3,
   "metadata": {},
   "outputs": [
    {
     "name": "stdout",
     "output_type": "stream",
     "text": [
      "Index(['lights', 'RH_1', 'T2', 'RH_2', 'T3', 'T6', 'RH_6', 'RH_8', 'RH_out',\n",
      "       'Windspeed'],\n",
      "      dtype='object')\n"
     ]
    }
   ],
   "source": [
    "# Appliances Energy Dataset\n",
    "df = pd.read_csv('energydata_complete.csv')\n",
    "\n",
    "df = df.drop(columns = ['date'])\n",
    "\n",
    "x = df[['Appliances', 'lights', 'T1', 'RH_1', 'T2', 'RH_2', 'T3', 'RH_3', 'T4', 'RH_4', 'T5', 'RH_5', 'T6', 'RH_6', 'T7', 'RH_7', 'T8', 'RH_8', 'T9', 'RH_9', 'T_out', 'Press_mm_hg', 'RH_out', 'Windspeed', 'Visibility', 'Tdewpoint', 'rv1', 'rv2']]\n",
    "y = df['Appliances']\n",
    "xtrain_energy, xtest_energy, ytrain_energy, ytest_energy = train_test_split(x, y, test_size=0.3, random_state=0) # xtrain - 13814 obs, xtest - 5921 obs\n",
    "\n",
    "# Categorizing the target variable\n",
    "xtrain_energy['energy_high'] = np.where(xtrain_energy.Appliances > xtrain_energy.Appliances.median(),1,0)\n",
    "xtest_energy['energy_high'] = np.where(xtest_energy.Appliances > xtrain_energy.Appliances.median(),1,0)\n",
    "\n",
    "xtrain2 = xtrain_energy.iloc[:,1:-1]\n",
    "xtest2 = xtest_energy.iloc[:,1:-1]\n",
    "\n",
    "ytrain_app_energy = xtrain_energy.iloc[:,-1]\n",
    "ytest_app_energy = xtest_energy.iloc[:,-1] # 0's and 1's\n",
    "\n",
    "# Data Scaling - Standardization - z = (X-mu)/sigma\n",
    "xtrain2 = (xtrain2-xtrain2.mean())/(xtrain2.std())\n",
    "xtest2 = (xtest2-xtest2.mean())/(xtest2.std())\n",
    "\n",
    "# Ten best suited features\n",
    "# Removing all the features having correlations less than 0.06\n",
    "# Removing T_out to avoid multicollinearity with T6\n",
    "xtrain_app_energy = xtrain2.drop(columns = ['T1', 'T4', 'T5', 'T7', 'T8', 'T9', 'RH_3', 'RH_4', 'RH_5', 'RH_7', 'RH_9', 'T_out', 'Visibility', 'Tdewpoint', 'Press_mm_hg', 'rv1', 'rv2'])\n",
    "xtest_app_energy = xtest2.drop(columns = ['T1', 'T4', 'T5', 'T7', 'T8', 'T9', 'RH_3', 'RH_4', 'RH_5', 'RH_7', 'RH_9', 'T_out', 'Visibility', 'Tdewpoint', 'Press_mm_hg', 'rv1', 'rv2'])\n",
    "print(xtrain_app_energy.columns)"
   ]
  },
  {
   "cell_type": "markdown",
   "metadata": {},
   "source": [
    "##### German Credit Dataset"
   ]
  },
  {
   "cell_type": "code",
   "execution_count": 4,
   "metadata": {},
   "outputs": [
    {
     "name": "stdout",
     "output_type": "stream",
     "text": [
      "Missing Values =  0\n",
      "Number of Credits  1    700\n",
      "0    300\n",
      "Name: creditability, dtype: int64\n",
      "(972, 61)\n"
     ]
    }
   ],
   "source": [
    "# German Credit Dataset\n",
    "data = pd.read_csv('german_credit.csv',sep = ',')\n",
    "print(\"Missing Values = \", data.isnull().values.sum()) #There are no missing values in any of the observations\n",
    "data = data.rename(columns = {\"default\":\"creditability\"})\n",
    "data1 = data.copy()\n",
    "#print(data1.head(2))\n",
    "# 0 = bad credit, 1 = good credit\n",
    "\n",
    "data1.creditability.replace([0,1], [1,0], inplace=True)\n",
    "print(\"Number of Credits \",data1.creditability.value_counts())\n",
    "# Number of good credits = 700, Number of bad credits = 300\n",
    "\n",
    "cont_vars = data1.select_dtypes(include=['int64']).drop(['creditability'],axis=1)\n",
    "cont_vars = (cont_vars-cont_vars.min())/(cont_vars.max()-cont_vars.min())\n",
    "\n",
    "data2 = data1.copy()\n",
    "data3 = cont_vars.copy()\n",
    "\n",
    "obj_data = data2.select_dtypes(include=['object']).copy()\n",
    "obj_data = pd.get_dummies(obj_data, prefix=['account', 'credit','purpose','savings','present_since','marital_status','debtors','property','other_plans','housing','job','telephone','foreign'])\n",
    "#print(\"obj_data\", obj_data.head())\n",
    "\n",
    "data3 = pd.concat([data1['creditability'],data3],axis=1)\n",
    "data3.reset_index(drop=True, inplace=True)\n",
    "obj_data.reset_index(drop=True, inplace=True)\n",
    "df2 = pd.concat([data3,obj_data], axis=1)\n",
    "#print(\"df2\", df2.head(2))\n",
    "\n",
    "# Splitting into train and test data\n",
    "train,test = train_test_split(df2,test_size=0.30,random_state=0) # train=700, test=300\n",
    "xtrain = train.iloc[:,1:]\n",
    "xtest = test.iloc[:,1:]\n",
    "\n",
    "ytrain = train.iloc[:,0]\n",
    "ytest = test.iloc[:,0]\n",
    "\n",
    "# Getting rid of the Class-Imbalance problem using SMOTE\n",
    "sm = SMOTE(ratio='auto')\n",
    "xtrain1, ytrain1 = sm.fit_sample(xtrain, ytrain)\n",
    "\n",
    "print(np.shape(xtrain1))"
   ]
  },
  {
   "cell_type": "markdown",
   "metadata": {},
   "source": [
    "### Algorithms "
   ]
  },
  {
   "cell_type": "markdown",
   "metadata": {},
   "source": [
    "##### Cross-Validation "
   ]
  },
  {
   "cell_type": "code",
   "execution_count": 5,
   "metadata": {},
   "outputs": [],
   "source": [
    "def cross_val(clf, xtrain, ytrain, ytest, ypred1, ypred):\n",
    "    score1 = cross_val_score(clf, xtrain, ytrain, cv=10, scoring='accuracy')\n",
    "    score2 = cross_val_score(clf, xtrain, ytrain, cv=10, scoring='precision')\n",
    "    score3 = cross_val_score(clf, xtrain, ytrain, cv=10, scoring='recall')\n",
    "    score4 = cross_val_score(clf, xtrain, ytrain, cv=10, scoring='roc_auc')\n",
    "    print('Train Error: ', 1-accuracy_score(ytrain, ypred1))\n",
    "    print('Test Error: ', 1-accuracy_score(ytest, ypred))\n",
    "    print(\"CV Accuracy: %0.2f (+/- %0.2f)\" % (score1.mean(), score1.std()))\n",
    "    print(\"CV Precision: %0.2f (+/- %0.2f)\" % (score2.mean(), score2.std()))\n",
    "    print(\"CV Recall: %0.2f (+/- %0.2f)\" % (score3.mean(), score3.std()))\n",
    "    print(\"CV roc_auc: %0.2f (+/- %0.2f)\" % (score4.mean(), score4.std()))\n",
    "    cm = confusion_matrix(ytest,ypred)\n",
    "    print(cm)\n",
    "    return"
   ]
  },
  {
   "cell_type": "markdown",
   "metadata": {},
   "source": [
    "##### ROC Curves "
   ]
  },
  {
   "cell_type": "code",
   "execution_count": 6,
   "metadata": {},
   "outputs": [],
   "source": [
    "def auc_roc (ytest, ypred):\n",
    "    fpr,tpr,roc_auc = dict(),dict(),dict()\n",
    "    fpr, tpr, _ = roc_curve(ytest, ypred)\n",
    "    roc_auc = auc(fpr, tpr)\n",
    "    plt.figure()\n",
    "    lw=2\n",
    "    plt.plot(fpr, tpr, color='red',label='ROC curve (area = %0.2f)' % roc_auc)\n",
    "    plt.plot([0, 1], [0, 1], color='blue', lw=lw, linestyle='--')\n",
    "    plt.xlim([0.0, 1.0])\n",
    "    plt.ylim([0.0, 1.0])\n",
    "    plt.title('ROC')\n",
    "    plt.xlabel('False Positive Rate')\n",
    "    plt.ylabel('True Positive Rate')\n",
    "    plt.legend(loc=\"lower right\")\n",
    "    plt.show()\n",
    "    return"
   ]
  },
  {
   "cell_type": "markdown",
   "metadata": {},
   "source": [
    "##### Learning Curves "
   ]
  },
  {
   "cell_type": "code",
   "execution_count": 9,
   "metadata": {},
   "outputs": [],
   "source": [
    "def learning_curves(estimator, title, xtrain, ytrain, ylim=None, cv=10, scoring='accuracy', obj_line=None,n_jobs=1, train_sizes=np.linspace(.1, 1.0, 5)):\n",
    "    plt.figure()\n",
    "    plt.title(title)\n",
    "    if ylim is not None:\n",
    "        plt.ylim(*ylim)\n",
    "    plt.xlabel(\"Training Size\")\n",
    "    plt.ylabel(\"Accuracy\")\n",
    "    train_sizes, train_scores, test_scores = learning_curve(\n",
    "        estimator, xtrain, ytrain, cv=10, scoring=scoring, n_jobs=n_jobs, train_sizes=train_sizes)\n",
    "    train_scores_mean = np.mean(train_scores, axis=1)\n",
    "    test_scores_mean  = np.mean(test_scores, axis=1)\n",
    "    plt.grid()\n",
    "    plt.plot(train_sizes, train_scores_mean, 'o-', color=\"red\", label=\"Training score\")\n",
    "    plt.plot(train_sizes, test_scores_mean, 'o-', color=\"green\", label=\"Cross-validation score\")\n",
    "    if obj_line:\n",
    "        plt.axhline(y=obj_line, color='blue')\n",
    "    plt.legend(loc=\"best\")\n",
    "    return plt"
   ]
  },
  {
   "cell_type": "markdown",
   "metadata": {},
   "source": [
    "##### ANN - Tensor Flow - Keras"
   ]
  },
  {
   "cell_type": "markdown",
   "metadata": {},
   "source": [
    "##### Appliances Data"
   ]
  },
  {
   "cell_type": "code",
   "execution_count": 145,
   "metadata": {},
   "outputs": [
    {
     "name": "stdout",
     "output_type": "stream",
     "text": [
      "Train on 12432 samples, validate on 1382 samples\n",
      "Epoch 1/250\n",
      "12432/12432 [==============================] - 0s 20us/step - loss: 0.6641 - accuracy: 0.6030 - val_loss: 0.6407 - val_accuracy: 0.6187\n",
      "Epoch 2/250\n",
      "12432/12432 [==============================] - 0s 11us/step - loss: 0.6323 - accuracy: 0.6408 - val_loss: 0.6166 - val_accuracy: 0.6498\n",
      "Epoch 3/250\n",
      "12432/12432 [==============================] - 0s 11us/step - loss: 0.6143 - accuracy: 0.6662 - val_loss: 0.5992 - val_accuracy: 0.6737\n",
      "Epoch 4/250\n",
      "12432/12432 [==============================] - 0s 11us/step - loss: 0.6010 - accuracy: 0.6790 - val_loss: 0.5853 - val_accuracy: 0.6889\n",
      "Epoch 5/250\n",
      "12432/12432 [==============================] - 0s 10us/step - loss: 0.5905 - accuracy: 0.6896 - val_loss: 0.5739 - val_accuracy: 0.7033\n",
      "Epoch 6/250\n",
      "12432/12432 [==============================] - 0s 11us/step - loss: 0.5819 - accuracy: 0.7000 - val_loss: 0.5649 - val_accuracy: 0.7149\n",
      "Epoch 7/250\n",
      "12432/12432 [==============================] - 0s 12us/step - loss: 0.5751 - accuracy: 0.7075 - val_loss: 0.5574 - val_accuracy: 0.7221\n",
      "Epoch 8/250\n",
      "12432/12432 [==============================] - 0s 11us/step - loss: 0.5695 - accuracy: 0.7091 - val_loss: 0.5513 - val_accuracy: 0.7258\n",
      "Epoch 9/250\n",
      "12432/12432 [==============================] - 0s 12us/step - loss: 0.5646 - accuracy: 0.7147 - val_loss: 0.5461 - val_accuracy: 0.7287\n",
      "Epoch 10/250\n",
      "12432/12432 [==============================] - 0s 12us/step - loss: 0.5605 - accuracy: 0.7161 - val_loss: 0.5415 - val_accuracy: 0.7308\n",
      "Epoch 11/250\n",
      "12432/12432 [==============================] - 0s 11us/step - loss: 0.5569 - accuracy: 0.7184 - val_loss: 0.5375 - val_accuracy: 0.7373\n",
      "Epoch 12/250\n",
      "12432/12432 [==============================] - 0s 13us/step - loss: 0.5536 - accuracy: 0.7198 - val_loss: 0.5344 - val_accuracy: 0.7410\n",
      "Epoch 13/250\n",
      "12432/12432 [==============================] - 0s 10us/step - loss: 0.5506 - accuracy: 0.7208 - val_loss: 0.5312 - val_accuracy: 0.7417\n",
      "Epoch 14/250\n",
      "12432/12432 [==============================] - 0s 10us/step - loss: 0.5480 - accuracy: 0.7224 - val_loss: 0.5284 - val_accuracy: 0.7446\n",
      "Epoch 15/250\n",
      "12432/12432 [==============================] - 0s 12us/step - loss: 0.5457 - accuracy: 0.7242 - val_loss: 0.5261 - val_accuracy: 0.7460\n",
      "Epoch 16/250\n",
      "12432/12432 [==============================] - 0s 13us/step - loss: 0.5435 - accuracy: 0.7259 - val_loss: 0.5240 - val_accuracy: 0.7504\n",
      "Epoch 17/250\n",
      "12432/12432 [==============================] - 0s 12us/step - loss: 0.5416 - accuracy: 0.7277 - val_loss: 0.5221 - val_accuracy: 0.7482\n",
      "Epoch 18/250\n",
      "12432/12432 [==============================] - 0s 13us/step - loss: 0.5398 - accuracy: 0.7285 - val_loss: 0.5204 - val_accuracy: 0.7475\n",
      "Epoch 19/250\n",
      "12432/12432 [==============================] - 0s 13us/step - loss: 0.5382 - accuracy: 0.7296 - val_loss: 0.5188 - val_accuracy: 0.7482\n",
      "Epoch 20/250\n",
      "12432/12432 [==============================] - 0s 10us/step - loss: 0.5367 - accuracy: 0.7319 - val_loss: 0.5173 - val_accuracy: 0.7489\n",
      "Epoch 21/250\n",
      "12432/12432 [==============================] - 0s 9us/step - loss: 0.5354 - accuracy: 0.7320 - val_loss: 0.5159 - val_accuracy: 0.7496\n",
      "Epoch 22/250\n",
      "12432/12432 [==============================] - 0s 10us/step - loss: 0.5340 - accuracy: 0.7318 - val_loss: 0.5149 - val_accuracy: 0.7489\n",
      "Epoch 23/250\n",
      "12432/12432 [==============================] - 0s 10us/step - loss: 0.5330 - accuracy: 0.7329 - val_loss: 0.5136 - val_accuracy: 0.7489\n",
      "Epoch 24/250\n",
      "12432/12432 [==============================] - 0s 11us/step - loss: 0.5318 - accuracy: 0.7331 - val_loss: 0.5129 - val_accuracy: 0.7482\n",
      "Epoch 25/250\n",
      "12432/12432 [==============================] - 0s 10us/step - loss: 0.5307 - accuracy: 0.7345 - val_loss: 0.5119 - val_accuracy: 0.7518\n",
      "Epoch 26/250\n",
      "12432/12432 [==============================] - 0s 10us/step - loss: 0.5299 - accuracy: 0.7343 - val_loss: 0.5109 - val_accuracy: 0.7496\n",
      "Epoch 27/250\n",
      "12432/12432 [==============================] - 0s 10us/step - loss: 0.5290 - accuracy: 0.7350 - val_loss: 0.5100 - val_accuracy: 0.7482\n",
      "Epoch 28/250\n",
      "12432/12432 [==============================] - 0s 10us/step - loss: 0.5283 - accuracy: 0.7350 - val_loss: 0.5092 - val_accuracy: 0.7496\n",
      "Epoch 29/250\n",
      "12432/12432 [==============================] - 0s 10us/step - loss: 0.5276 - accuracy: 0.7353 - val_loss: 0.5085 - val_accuracy: 0.7504\n",
      "Epoch 30/250\n",
      "12432/12432 [==============================] - 0s 10us/step - loss: 0.5267 - accuracy: 0.7370 - val_loss: 0.5075 - val_accuracy: 0.7504\n",
      "Epoch 31/250\n",
      "12432/12432 [==============================] - 0s 10us/step - loss: 0.5260 - accuracy: 0.7379 - val_loss: 0.5066 - val_accuracy: 0.7489\n",
      "Epoch 32/250\n",
      "12432/12432 [==============================] - 0s 11us/step - loss: 0.5252 - accuracy: 0.7379 - val_loss: 0.5060 - val_accuracy: 0.7540\n",
      "Epoch 33/250\n",
      "12432/12432 [==============================] - 0s 14us/step - loss: 0.5245 - accuracy: 0.7392 - val_loss: 0.5052 - val_accuracy: 0.7504\n",
      "Epoch 34/250\n",
      "12432/12432 [==============================] - 0s 12us/step - loss: 0.5237 - accuracy: 0.7391 - val_loss: 0.5045 - val_accuracy: 0.7540\n",
      "Epoch 35/250\n",
      "12432/12432 [==============================] - 0s 12us/step - loss: 0.5230 - accuracy: 0.7394 - val_loss: 0.5036 - val_accuracy: 0.7533\n",
      "Epoch 36/250\n",
      "12432/12432 [==============================] - 0s 13us/step - loss: 0.5223 - accuracy: 0.7401 - val_loss: 0.5029 - val_accuracy: 0.7518\n",
      "Epoch 37/250\n",
      "12432/12432 [==============================] - 0s 14us/step - loss: 0.5217 - accuracy: 0.7401 - val_loss: 0.5022 - val_accuracy: 0.7540\n",
      "Epoch 38/250\n",
      "12432/12432 [==============================] - 0s 11us/step - loss: 0.5209 - accuracy: 0.7419 - val_loss: 0.5014 - val_accuracy: 0.7554\n",
      "Epoch 39/250\n",
      "12432/12432 [==============================] - 0s 13us/step - loss: 0.5202 - accuracy: 0.7413 - val_loss: 0.5007 - val_accuracy: 0.7540\n",
      "Epoch 40/250\n",
      "12432/12432 [==============================] - 0s 14us/step - loss: 0.5198 - accuracy: 0.7426 - val_loss: 0.5003 - val_accuracy: 0.7540\n",
      "Epoch 41/250\n",
      "12432/12432 [==============================] - 0s 10us/step - loss: 0.5191 - accuracy: 0.7424 - val_loss: 0.4994 - val_accuracy: 0.7569\n",
      "Epoch 42/250\n",
      "12432/12432 [==============================] - 0s 10us/step - loss: 0.5185 - accuracy: 0.7412 - val_loss: 0.4991 - val_accuracy: 0.7576\n",
      "Epoch 43/250\n",
      "12432/12432 [==============================] - 0s 11us/step - loss: 0.5180 - accuracy: 0.7426 - val_loss: 0.4983 - val_accuracy: 0.7569\n",
      "Epoch 44/250\n",
      "12432/12432 [==============================] - 0s 12us/step - loss: 0.5173 - accuracy: 0.7430 - val_loss: 0.4979 - val_accuracy: 0.7590\n",
      "Epoch 45/250\n",
      "12432/12432 [==============================] - 0s 11us/step - loss: 0.5167 - accuracy: 0.7429 - val_loss: 0.4974 - val_accuracy: 0.7598\n",
      "Epoch 46/250\n",
      "12432/12432 [==============================] - 0s 10us/step - loss: 0.5162 - accuracy: 0.7430 - val_loss: 0.4967 - val_accuracy: 0.7605\n",
      "Epoch 47/250\n",
      "12432/12432 [==============================] - 0s 10us/step - loss: 0.5156 - accuracy: 0.7432 - val_loss: 0.4963 - val_accuracy: 0.7627\n",
      "Epoch 48/250\n",
      "12432/12432 [==============================] - 0s 10us/step - loss: 0.5150 - accuracy: 0.7433 - val_loss: 0.4955 - val_accuracy: 0.7627\n",
      "Epoch 49/250\n",
      "12432/12432 [==============================] - 0s 10us/step - loss: 0.5144 - accuracy: 0.7426 - val_loss: 0.4956 - val_accuracy: 0.7641\n",
      "Epoch 50/250\n",
      "12432/12432 [==============================] - 0s 10us/step - loss: 0.5140 - accuracy: 0.7441 - val_loss: 0.4951 - val_accuracy: 0.7627\n",
      "Epoch 51/250\n",
      "12432/12432 [==============================] - 0s 10us/step - loss: 0.5135 - accuracy: 0.7455 - val_loss: 0.4943 - val_accuracy: 0.7634\n",
      "Epoch 52/250\n",
      "12432/12432 [==============================] - 0s 10us/step - loss: 0.5129 - accuracy: 0.7444 - val_loss: 0.4940 - val_accuracy: 0.7634\n",
      "Epoch 53/250\n",
      "12432/12432 [==============================] - 0s 10us/step - loss: 0.5124 - accuracy: 0.7451 - val_loss: 0.4936 - val_accuracy: 0.7648\n",
      "Epoch 54/250\n",
      "12432/12432 [==============================] - 0s 10us/step - loss: 0.5119 - accuracy: 0.7460 - val_loss: 0.4934 - val_accuracy: 0.7670\n",
      "Epoch 55/250\n",
      "12432/12432 [==============================] - 0s 10us/step - loss: 0.5113 - accuracy: 0.7463 - val_loss: 0.4929 - val_accuracy: 0.7656\n",
      "Epoch 56/250\n",
      "12432/12432 [==============================] - 0s 11us/step - loss: 0.5108 - accuracy: 0.7460 - val_loss: 0.4929 - val_accuracy: 0.7670\n",
      "Epoch 57/250\n",
      "12432/12432 [==============================] - 0s 10us/step - loss: 0.5103 - accuracy: 0.7467 - val_loss: 0.4922 - val_accuracy: 0.7656\n",
      "Epoch 58/250\n",
      "12432/12432 [==============================] - 0s 10us/step - loss: 0.5098 - accuracy: 0.7474 - val_loss: 0.4918 - val_accuracy: 0.7656\n",
      "Epoch 59/250\n",
      "12432/12432 [==============================] - 0s 11us/step - loss: 0.5092 - accuracy: 0.7490 - val_loss: 0.4914 - val_accuracy: 0.7685\n",
      "Epoch 60/250\n",
      "12432/12432 [==============================] - 0s 12us/step - loss: 0.5089 - accuracy: 0.7487 - val_loss: 0.4912 - val_accuracy: 0.7663\n",
      "Epoch 61/250\n",
      "12432/12432 [==============================] - 0s 11us/step - loss: 0.5082 - accuracy: 0.7492 - val_loss: 0.4910 - val_accuracy: 0.7685\n",
      "Epoch 62/250\n",
      "12432/12432 [==============================] - 0s 12us/step - loss: 0.5079 - accuracy: 0.7505 - val_loss: 0.4906 - val_accuracy: 0.7663\n",
      "Epoch 63/250\n",
      "12432/12432 [==============================] - 0s 11us/step - loss: 0.5072 - accuracy: 0.7505 - val_loss: 0.4902 - val_accuracy: 0.7663\n",
      "Epoch 64/250\n",
      "12432/12432 [==============================] - 0s 13us/step - loss: 0.5068 - accuracy: 0.7509 - val_loss: 0.4900 - val_accuracy: 0.7648\n",
      "Epoch 65/250\n",
      "12432/12432 [==============================] - 0s 12us/step - loss: 0.5062 - accuracy: 0.7520 - val_loss: 0.4897 - val_accuracy: 0.7641\n",
      "Epoch 66/250\n",
      "12432/12432 [==============================] - 0s 11us/step - loss: 0.5058 - accuracy: 0.7514 - val_loss: 0.4890 - val_accuracy: 0.7663\n",
      "Epoch 67/250\n",
      "12432/12432 [==============================] - 0s 10us/step - loss: 0.5054 - accuracy: 0.7515 - val_loss: 0.4886 - val_accuracy: 0.7612\n",
      "Epoch 68/250\n",
      "12432/12432 [==============================] - 0s 12us/step - loss: 0.5048 - accuracy: 0.7524 - val_loss: 0.4882 - val_accuracy: 0.7641\n",
      "Epoch 69/250\n",
      "12432/12432 [==============================] - 0s 14us/step - loss: 0.5043 - accuracy: 0.7514 - val_loss: 0.4880 - val_accuracy: 0.7641\n",
      "Epoch 70/250\n",
      "12432/12432 [==============================] - 0s 11us/step - loss: 0.5041 - accuracy: 0.7514 - val_loss: 0.4875 - val_accuracy: 0.7627\n",
      "Epoch 71/250\n",
      "12432/12432 [==============================] - 0s 10us/step - loss: 0.5036 - accuracy: 0.7510 - val_loss: 0.4869 - val_accuracy: 0.7627\n",
      "Epoch 72/250\n",
      "12432/12432 [==============================] - 0s 9us/step - loss: 0.5032 - accuracy: 0.7518 - val_loss: 0.4868 - val_accuracy: 0.7612\n",
      "Epoch 73/250\n",
      "12432/12432 [==============================] - 0s 9us/step - loss: 0.5027 - accuracy: 0.7513 - val_loss: 0.4862 - val_accuracy: 0.7590\n",
      "Epoch 74/250\n",
      "12432/12432 [==============================] - 0s 10us/step - loss: 0.5023 - accuracy: 0.7536 - val_loss: 0.4860 - val_accuracy: 0.7612\n",
      "Epoch 75/250\n",
      "12432/12432 [==============================] - 0s 10us/step - loss: 0.5019 - accuracy: 0.7529 - val_loss: 0.4854 - val_accuracy: 0.7634\n",
      "Epoch 76/250\n",
      "12432/12432 [==============================] - 0s 10us/step - loss: 0.5016 - accuracy: 0.7526 - val_loss: 0.4850 - val_accuracy: 0.7627\n",
      "Epoch 77/250\n",
      "12432/12432 [==============================] - 0s 10us/step - loss: 0.5013 - accuracy: 0.7539 - val_loss: 0.4850 - val_accuracy: 0.7663\n",
      "Epoch 78/250\n",
      "12432/12432 [==============================] - 0s 10us/step - loss: 0.5008 - accuracy: 0.7537 - val_loss: 0.4844 - val_accuracy: 0.7627\n",
      "Epoch 79/250\n",
      "12432/12432 [==============================] - 0s 10us/step - loss: 0.5004 - accuracy: 0.7549 - val_loss: 0.4841 - val_accuracy: 0.7619\n",
      "Epoch 80/250\n",
      "12432/12432 [==============================] - 0s 11us/step - loss: 0.5000 - accuracy: 0.7546 - val_loss: 0.4833 - val_accuracy: 0.7598\n",
      "Epoch 81/250\n",
      "12432/12432 [==============================] - 0s 10us/step - loss: 0.4996 - accuracy: 0.7556 - val_loss: 0.4831 - val_accuracy: 0.7627\n",
      "Epoch 82/250\n",
      "12432/12432 [==============================] - 0s 10us/step - loss: 0.4992 - accuracy: 0.7556 - val_loss: 0.4825 - val_accuracy: 0.7627\n",
      "Epoch 83/250\n",
      "12432/12432 [==============================] - 0s 10us/step - loss: 0.4989 - accuracy: 0.7566 - val_loss: 0.4823 - val_accuracy: 0.7648\n",
      "Epoch 84/250\n",
      "12432/12432 [==============================] - 0s 10us/step - loss: 0.4986 - accuracy: 0.7556 - val_loss: 0.4819 - val_accuracy: 0.7656\n",
      "Epoch 85/250\n",
      "12432/12432 [==============================] - 0s 10us/step - loss: 0.4981 - accuracy: 0.7569 - val_loss: 0.4817 - val_accuracy: 0.7656\n",
      "Epoch 86/250\n",
      "12432/12432 [==============================] - 0s 11us/step - loss: 0.4976 - accuracy: 0.7572 - val_loss: 0.4811 - val_accuracy: 0.7685\n",
      "Epoch 87/250\n",
      "12432/12432 [==============================] - 0s 10us/step - loss: 0.4974 - accuracy: 0.7571 - val_loss: 0.4807 - val_accuracy: 0.7677\n",
      "Epoch 88/250\n",
      "12432/12432 [==============================] - 0s 10us/step - loss: 0.4967 - accuracy: 0.7591 - val_loss: 0.4806 - val_accuracy: 0.7648\n",
      "Epoch 89/250\n",
      "12432/12432 [==============================] - 0s 10us/step - loss: 0.4966 - accuracy: 0.7576 - val_loss: 0.4803 - val_accuracy: 0.7670\n",
      "Epoch 90/250\n",
      "12432/12432 [==============================] - 0s 10us/step - loss: 0.4964 - accuracy: 0.7605 - val_loss: 0.4791 - val_accuracy: 0.7670\n",
      "Epoch 91/250\n",
      "12432/12432 [==============================] - 0s 10us/step - loss: 0.4961 - accuracy: 0.7585 - val_loss: 0.4787 - val_accuracy: 0.7706\n",
      "Epoch 92/250\n",
      "12432/12432 [==============================] - 0s 10us/step - loss: 0.4956 - accuracy: 0.7583 - val_loss: 0.4784 - val_accuracy: 0.7663\n",
      "Epoch 93/250\n",
      "12432/12432 [==============================] - 0s 10us/step - loss: 0.4952 - accuracy: 0.7593 - val_loss: 0.4782 - val_accuracy: 0.7677\n",
      "Epoch 94/250\n",
      "12432/12432 [==============================] - 0s 12us/step - loss: 0.4949 - accuracy: 0.7613 - val_loss: 0.4779 - val_accuracy: 0.7692\n",
      "Epoch 95/250\n",
      "12432/12432 [==============================] - 0s 11us/step - loss: 0.4944 - accuracy: 0.7584 - val_loss: 0.4776 - val_accuracy: 0.7677\n",
      "Epoch 96/250\n",
      "12432/12432 [==============================] - 0s 11us/step - loss: 0.4942 - accuracy: 0.7610 - val_loss: 0.4773 - val_accuracy: 0.7670\n",
      "Epoch 97/250\n",
      "12432/12432 [==============================] - 0s 13us/step - loss: 0.4938 - accuracy: 0.7603 - val_loss: 0.4773 - val_accuracy: 0.7677\n",
      "Epoch 98/250\n",
      "12432/12432 [==============================] - 0s 13us/step - loss: 0.4934 - accuracy: 0.7616 - val_loss: 0.4764 - val_accuracy: 0.7699\n",
      "Epoch 99/250\n",
      "12432/12432 [==============================] - 0s 13us/step - loss: 0.4931 - accuracy: 0.7626 - val_loss: 0.4763 - val_accuracy: 0.7713\n",
      "Epoch 100/250\n",
      "12432/12432 [==============================] - 0s 11us/step - loss: 0.4927 - accuracy: 0.7613 - val_loss: 0.4764 - val_accuracy: 0.7670\n",
      "Epoch 101/250\n",
      "12432/12432 [==============================] - 0s 10us/step - loss: 0.4922 - accuracy: 0.7625 - val_loss: 0.4760 - val_accuracy: 0.7699\n",
      "Epoch 102/250\n",
      "12432/12432 [==============================] - 0s 11us/step - loss: 0.4918 - accuracy: 0.7631 - val_loss: 0.4758 - val_accuracy: 0.7677\n",
      "Epoch 103/250\n",
      "12432/12432 [==============================] - 0s 11us/step - loss: 0.4917 - accuracy: 0.7619 - val_loss: 0.4756 - val_accuracy: 0.7742\n",
      "Epoch 104/250\n",
      "12432/12432 [==============================] - 0s 11us/step - loss: 0.4912 - accuracy: 0.7635 - val_loss: 0.4753 - val_accuracy: 0.7663\n",
      "Epoch 105/250\n",
      "12432/12432 [==============================] - 0s 10us/step - loss: 0.4908 - accuracy: 0.7630 - val_loss: 0.4747 - val_accuracy: 0.7728\n",
      "Epoch 106/250\n",
      "12432/12432 [==============================] - 0s 10us/step - loss: 0.4905 - accuracy: 0.7627 - val_loss: 0.4749 - val_accuracy: 0.7677\n",
      "Epoch 107/250\n",
      "12432/12432 [==============================] - 0s 10us/step - loss: 0.4904 - accuracy: 0.7625 - val_loss: 0.4744 - val_accuracy: 0.7728\n",
      "Epoch 108/250\n",
      "12432/12432 [==============================] - 0s 11us/step - loss: 0.4898 - accuracy: 0.7632 - val_loss: 0.4737 - val_accuracy: 0.7685\n",
      "Epoch 109/250\n",
      "12432/12432 [==============================] - 0s 10us/step - loss: 0.4896 - accuracy: 0.7636 - val_loss: 0.4739 - val_accuracy: 0.7685\n",
      "Epoch 110/250\n",
      "12432/12432 [==============================] - 0s 10us/step - loss: 0.4892 - accuracy: 0.7652 - val_loss: 0.4737 - val_accuracy: 0.7677\n",
      "Epoch 111/250\n",
      "12432/12432 [==============================] - 0s 10us/step - loss: 0.4888 - accuracy: 0.7647 - val_loss: 0.4730 - val_accuracy: 0.7670\n",
      "Epoch 112/250\n",
      "12432/12432 [==============================] - 0s 10us/step - loss: 0.4885 - accuracy: 0.7641 - val_loss: 0.4727 - val_accuracy: 0.7685\n",
      "Epoch 113/250\n",
      "12432/12432 [==============================] - 0s 11us/step - loss: 0.4880 - accuracy: 0.7642 - val_loss: 0.4724 - val_accuracy: 0.7735\n",
      "Epoch 114/250\n",
      "12432/12432 [==============================] - 0s 10us/step - loss: 0.4878 - accuracy: 0.7636 - val_loss: 0.4722 - val_accuracy: 0.7685\n",
      "Epoch 115/250\n",
      "12432/12432 [==============================] - 0s 11us/step - loss: 0.4874 - accuracy: 0.7648 - val_loss: 0.4718 - val_accuracy: 0.7699\n",
      "Epoch 116/250\n",
      "12432/12432 [==============================] - 0s 10us/step - loss: 0.4872 - accuracy: 0.7649 - val_loss: 0.4720 - val_accuracy: 0.7713\n",
      "Epoch 117/250\n",
      "12432/12432 [==============================] - 0s 10us/step - loss: 0.4867 - accuracy: 0.7646 - val_loss: 0.4714 - val_accuracy: 0.7721\n",
      "Epoch 118/250\n",
      "12432/12432 [==============================] - 0s 10us/step - loss: 0.4864 - accuracy: 0.7651 - val_loss: 0.4710 - val_accuracy: 0.7757\n",
      "Epoch 119/250\n",
      "12432/12432 [==============================] - 0s 10us/step - loss: 0.4861 - accuracy: 0.7665 - val_loss: 0.4709 - val_accuracy: 0.7721\n",
      "Epoch 120/250\n",
      "12432/12432 [==============================] - 0s 10us/step - loss: 0.4857 - accuracy: 0.7671 - val_loss: 0.4707 - val_accuracy: 0.7706\n",
      "Epoch 121/250\n",
      "12432/12432 [==============================] - 0s 10us/step - loss: 0.4855 - accuracy: 0.7658 - val_loss: 0.4709 - val_accuracy: 0.7757\n",
      "Epoch 122/250\n",
      "12432/12432 [==============================] - 0s 10us/step - loss: 0.4848 - accuracy: 0.7679 - val_loss: 0.4706 - val_accuracy: 0.7721\n",
      "Epoch 123/250\n",
      "12432/12432 [==============================] - 0s 10us/step - loss: 0.4848 - accuracy: 0.7671 - val_loss: 0.4702 - val_accuracy: 0.7699\n",
      "Epoch 124/250\n",
      "12432/12432 [==============================] - 0s 10us/step - loss: 0.4843 - accuracy: 0.7666 - val_loss: 0.4699 - val_accuracy: 0.7721\n",
      "Epoch 125/250\n",
      "12432/12432 [==============================] - 0s 11us/step - loss: 0.4840 - accuracy: 0.7680 - val_loss: 0.4698 - val_accuracy: 0.7728\n",
      "Epoch 126/250\n",
      "12432/12432 [==============================] - 0s 11us/step - loss: 0.4838 - accuracy: 0.7669 - val_loss: 0.4692 - val_accuracy: 0.7757\n",
      "Epoch 127/250\n",
      "12432/12432 [==============================] - 0s 11us/step - loss: 0.4834 - accuracy: 0.7675 - val_loss: 0.4692 - val_accuracy: 0.7721\n",
      "Epoch 128/250\n",
      "12432/12432 [==============================] - 0s 11us/step - loss: 0.4830 - accuracy: 0.7700 - val_loss: 0.4694 - val_accuracy: 0.7728\n",
      "Epoch 129/250\n",
      "12432/12432 [==============================] - 0s 12us/step - loss: 0.4827 - accuracy: 0.7692 - val_loss: 0.4691 - val_accuracy: 0.7742\n",
      "Epoch 130/250\n",
      "12432/12432 [==============================] - ETA: 0s - loss: 0.4835 - accuracy: 0.76 - 0s 11us/step - loss: 0.4821 - accuracy: 0.7686 - val_loss: 0.4688 - val_accuracy: 0.7786\n",
      "Epoch 131/250\n",
      "12432/12432 [==============================] - 0s 11us/step - loss: 0.4820 - accuracy: 0.7708 - val_loss: 0.4682 - val_accuracy: 0.7735\n",
      "Epoch 132/250\n",
      "12432/12432 [==============================] - 0s 10us/step - loss: 0.4815 - accuracy: 0.7704 - val_loss: 0.4678 - val_accuracy: 0.7757\n",
      "Epoch 133/250\n",
      "12432/12432 [==============================] - 0s 9us/step - loss: 0.4813 - accuracy: 0.7703 - val_loss: 0.4676 - val_accuracy: 0.7771\n",
      "Epoch 134/250\n",
      "12432/12432 [==============================] - 0s 10us/step - loss: 0.4807 - accuracy: 0.7712 - val_loss: 0.4681 - val_accuracy: 0.7793\n",
      "Epoch 135/250\n",
      "12432/12432 [==============================] - 0s 10us/step - loss: 0.4805 - accuracy: 0.7718 - val_loss: 0.4682 - val_accuracy: 0.7750\n",
      "Epoch 136/250\n",
      "12432/12432 [==============================] - 0s 10us/step - loss: 0.4802 - accuracy: 0.7721 - val_loss: 0.4676 - val_accuracy: 0.7764\n",
      "Epoch 137/250\n",
      "12432/12432 [==============================] - 0s 11us/step - loss: 0.4799 - accuracy: 0.7722 - val_loss: 0.4674 - val_accuracy: 0.7757\n",
      "Epoch 138/250\n",
      "12432/12432 [==============================] - 0s 10us/step - loss: 0.4797 - accuracy: 0.7719 - val_loss: 0.4667 - val_accuracy: 0.7757\n",
      "Epoch 139/250\n",
      "12432/12432 [==============================] - 0s 11us/step - loss: 0.4792 - accuracy: 0.7727 - val_loss: 0.4675 - val_accuracy: 0.7742\n",
      "Epoch 140/250\n",
      "12432/12432 [==============================] - 0s 10us/step - loss: 0.4788 - accuracy: 0.7732 - val_loss: 0.4668 - val_accuracy: 0.7764\n",
      "Epoch 141/250\n",
      "12432/12432 [==============================] - 0s 10us/step - loss: 0.4785 - accuracy: 0.7739 - val_loss: 0.4667 - val_accuracy: 0.7742\n",
      "Epoch 142/250\n",
      "12432/12432 [==============================] - 0s 10us/step - loss: 0.4783 - accuracy: 0.7728 - val_loss: 0.4667 - val_accuracy: 0.7771\n",
      "Epoch 143/250\n",
      "12432/12432 [==============================] - 0s 10us/step - loss: 0.4778 - accuracy: 0.7729 - val_loss: 0.4665 - val_accuracy: 0.7728\n",
      "Epoch 144/250\n",
      "12432/12432 [==============================] - 0s 10us/step - loss: 0.4776 - accuracy: 0.7747 - val_loss: 0.4665 - val_accuracy: 0.7757\n",
      "Epoch 145/250\n",
      "12432/12432 [==============================] - 0s 10us/step - loss: 0.4771 - accuracy: 0.7742 - val_loss: 0.4667 - val_accuracy: 0.7742\n",
      "Epoch 146/250\n",
      "12432/12432 [==============================] - 0s 11us/step - loss: 0.4769 - accuracy: 0.7745 - val_loss: 0.4668 - val_accuracy: 0.7808\n",
      "Epoch 147/250\n",
      "12432/12432 [==============================] - 0s 10us/step - loss: 0.4764 - accuracy: 0.7747 - val_loss: 0.4659 - val_accuracy: 0.7750\n",
      "Epoch 148/250\n",
      "12432/12432 [==============================] - 0s 10us/step - loss: 0.4762 - accuracy: 0.7745 - val_loss: 0.4657 - val_accuracy: 0.7786\n",
      "Epoch 149/250\n",
      "12432/12432 [==============================] - 0s 10us/step - loss: 0.4759 - accuracy: 0.7747 - val_loss: 0.4657 - val_accuracy: 0.7771\n",
      "Epoch 150/250\n",
      "12432/12432 [==============================] - 0s 10us/step - loss: 0.4756 - accuracy: 0.7745 - val_loss: 0.4663 - val_accuracy: 0.7786\n",
      "Epoch 151/250\n",
      "12432/12432 [==============================] - 0s 10us/step - loss: 0.4754 - accuracy: 0.7756 - val_loss: 0.4657 - val_accuracy: 0.7786\n",
      "Epoch 152/250\n",
      "12432/12432 [==============================] - 0s 11us/step - loss: 0.4749 - accuracy: 0.7773 - val_loss: 0.4662 - val_accuracy: 0.7800\n",
      "Epoch 153/250\n",
      "12432/12432 [==============================] - 0s 10us/step - loss: 0.4746 - accuracy: 0.7761 - val_loss: 0.4656 - val_accuracy: 0.7786\n",
      "Epoch 154/250\n",
      "12432/12432 [==============================] - 0s 11us/step - loss: 0.4744 - accuracy: 0.7756 - val_loss: 0.4658 - val_accuracy: 0.7779\n",
      "Epoch 155/250\n",
      "12432/12432 [==============================] - 0s 11us/step - loss: 0.4741 - accuracy: 0.7770 - val_loss: 0.4653 - val_accuracy: 0.7771\n",
      "Epoch 156/250\n",
      "12432/12432 [==============================] - 0s 11us/step - loss: 0.4739 - accuracy: 0.7770 - val_loss: 0.4657 - val_accuracy: 0.7764\n",
      "Epoch 157/250\n",
      "12432/12432 [==============================] - 0s 11us/step - loss: 0.4737 - accuracy: 0.7764 - val_loss: 0.4655 - val_accuracy: 0.7786\n",
      "Epoch 158/250\n",
      "12432/12432 [==============================] - 0s 12us/step - loss: 0.4732 - accuracy: 0.7751 - val_loss: 0.4655 - val_accuracy: 0.7771\n",
      "Epoch 159/250\n",
      "12432/12432 [==============================] - 0s 11us/step - loss: 0.4730 - accuracy: 0.7783 - val_loss: 0.4651 - val_accuracy: 0.7815\n",
      "Epoch 160/250\n",
      "12432/12432 [==============================] - 0s 11us/step - loss: 0.4724 - accuracy: 0.7768 - val_loss: 0.4644 - val_accuracy: 0.7822\n",
      "Epoch 161/250\n",
      "12432/12432 [==============================] - 0s 11us/step - loss: 0.4725 - accuracy: 0.7771 - val_loss: 0.4644 - val_accuracy: 0.7793\n",
      "Epoch 162/250\n",
      "12432/12432 [==============================] - 0s 11us/step - loss: 0.4721 - accuracy: 0.7774 - val_loss: 0.4645 - val_accuracy: 0.7815\n",
      "Epoch 163/250\n",
      "12432/12432 [==============================] - 0s 10us/step - loss: 0.4717 - accuracy: 0.7762 - val_loss: 0.4643 - val_accuracy: 0.7815\n",
      "Epoch 164/250\n",
      "12432/12432 [==============================] - 0s 10us/step - loss: 0.4716 - accuracy: 0.7778 - val_loss: 0.4648 - val_accuracy: 0.7808\n",
      "Epoch 165/250\n",
      "12432/12432 [==============================] - 0s 11us/step - loss: 0.4712 - accuracy: 0.7770 - val_loss: 0.4648 - val_accuracy: 0.7793\n",
      "Epoch 166/250\n",
      "12432/12432 [==============================] - 0s 12us/step - loss: 0.4712 - accuracy: 0.7766 - val_loss: 0.4640 - val_accuracy: 0.7822\n",
      "Epoch 167/250\n",
      "12432/12432 [==============================] - 0s 12us/step - loss: 0.4708 - accuracy: 0.7778 - val_loss: 0.4640 - val_accuracy: 0.7851\n",
      "Epoch 168/250\n",
      "12432/12432 [==============================] - 0s 11us/step - loss: 0.4705 - accuracy: 0.7792 - val_loss: 0.4638 - val_accuracy: 0.7829\n",
      "Epoch 169/250\n",
      "12432/12432 [==============================] - 0s 12us/step - loss: 0.4703 - accuracy: 0.7769 - val_loss: 0.4642 - val_accuracy: 0.7786\n",
      "Epoch 170/250\n",
      "12432/12432 [==============================] - 0s 11us/step - loss: 0.4702 - accuracy: 0.7778 - val_loss: 0.4633 - val_accuracy: 0.7829\n",
      "Epoch 171/250\n",
      "12432/12432 [==============================] - 0s 11us/step - loss: 0.4697 - accuracy: 0.7789 - val_loss: 0.4632 - val_accuracy: 0.7822\n",
      "Epoch 172/250\n",
      "12432/12432 [==============================] - 0s 11us/step - loss: 0.4694 - accuracy: 0.7781 - val_loss: 0.4628 - val_accuracy: 0.7815\n",
      "Epoch 173/250\n",
      "12432/12432 [==============================] - 0s 11us/step - loss: 0.4694 - accuracy: 0.7782 - val_loss: 0.4629 - val_accuracy: 0.7851\n",
      "Epoch 174/250\n",
      "12432/12432 [==============================] - 0s 10us/step - loss: 0.4692 - accuracy: 0.7787 - val_loss: 0.4635 - val_accuracy: 0.7851\n",
      "Epoch 175/250\n",
      "12432/12432 [==============================] - 0s 10us/step - loss: 0.4688 - accuracy: 0.7808 - val_loss: 0.4634 - val_accuracy: 0.7808\n",
      "Epoch 176/250\n",
      "12432/12432 [==============================] - 0s 10us/step - loss: 0.4688 - accuracy: 0.7783 - val_loss: 0.4633 - val_accuracy: 0.7829\n",
      "Epoch 177/250\n",
      "12432/12432 [==============================] - 0s 10us/step - loss: 0.4686 - accuracy: 0.7787 - val_loss: 0.4636 - val_accuracy: 0.7829\n",
      "Epoch 178/250\n",
      "12432/12432 [==============================] - 0s 11us/step - loss: 0.4682 - accuracy: 0.7792 - val_loss: 0.4627 - val_accuracy: 0.7836\n",
      "Epoch 179/250\n",
      "12432/12432 [==============================] - 0s 10us/step - loss: 0.4680 - accuracy: 0.7786 - val_loss: 0.4625 - val_accuracy: 0.7822\n",
      "Epoch 180/250\n",
      "12432/12432 [==============================] - 0s 10us/step - loss: 0.4678 - accuracy: 0.7799 - val_loss: 0.4628 - val_accuracy: 0.7829\n",
      "Epoch 181/250\n",
      "12432/12432 [==============================] - 0s 10us/step - loss: 0.4677 - accuracy: 0.7788 - val_loss: 0.4621 - val_accuracy: 0.7851\n",
      "Epoch 182/250\n",
      "12432/12432 [==============================] - 0s 10us/step - loss: 0.4676 - accuracy: 0.7800 - val_loss: 0.4624 - val_accuracy: 0.7836\n",
      "Epoch 183/250\n",
      "12432/12432 [==============================] - 0s 10us/step - loss: 0.4671 - accuracy: 0.7796 - val_loss: 0.4629 - val_accuracy: 0.7844\n",
      "Epoch 184/250\n",
      "12432/12432 [==============================] - 0s 10us/step - loss: 0.4670 - accuracy: 0.7800 - val_loss: 0.4610 - val_accuracy: 0.7844\n",
      "Epoch 185/250\n",
      "12432/12432 [==============================] - 0s 13us/step - loss: 0.4667 - accuracy: 0.7810 - val_loss: 0.4614 - val_accuracy: 0.7836\n",
      "Epoch 186/250\n",
      "12432/12432 [==============================] - 0s 15us/step - loss: 0.4665 - accuracy: 0.7803 - val_loss: 0.4610 - val_accuracy: 0.7829\n",
      "Epoch 187/250\n",
      "12432/12432 [==============================] - 0s 12us/step - loss: 0.4663 - accuracy: 0.7802 - val_loss: 0.4615 - val_accuracy: 0.7829\n",
      "Epoch 188/250\n",
      "12432/12432 [==============================] - 0s 12us/step - loss: 0.4661 - accuracy: 0.7810 - val_loss: 0.4607 - val_accuracy: 0.7844\n",
      "Epoch 189/250\n",
      "12432/12432 [==============================] - 0s 18us/step - loss: 0.4658 - accuracy: 0.7819 - val_loss: 0.4617 - val_accuracy: 0.7836\n",
      "Epoch 190/250\n",
      "12432/12432 [==============================] - 0s 13us/step - loss: 0.4658 - accuracy: 0.7808 - val_loss: 0.4620 - val_accuracy: 0.7815\n",
      "Epoch 191/250\n",
      "12432/12432 [==============================] - 0s 11us/step - loss: 0.4659 - accuracy: 0.7823 - val_loss: 0.4608 - val_accuracy: 0.7844\n",
      "Epoch 192/250\n",
      "12432/12432 [==============================] - 0s 13us/step - loss: 0.4655 - accuracy: 0.7819 - val_loss: 0.4612 - val_accuracy: 0.7858\n",
      "Epoch 193/250\n",
      "12432/12432 [==============================] - 0s 13us/step - loss: 0.4649 - accuracy: 0.7820 - val_loss: 0.4612 - val_accuracy: 0.7836\n",
      "Epoch 194/250\n",
      "12432/12432 [==============================] - 0s 12us/step - loss: 0.4649 - accuracy: 0.7833 - val_loss: 0.4611 - val_accuracy: 0.7836\n",
      "Epoch 195/250\n",
      "12432/12432 [==============================] - 0s 12us/step - loss: 0.4648 - accuracy: 0.7826 - val_loss: 0.4602 - val_accuracy: 0.7851\n",
      "Epoch 196/250\n",
      "12432/12432 [==============================] - 0s 13us/step - loss: 0.4645 - accuracy: 0.7825 - val_loss: 0.4613 - val_accuracy: 0.7858\n",
      "Epoch 197/250\n",
      "12432/12432 [==============================] - 0s 12us/step - loss: 0.4644 - accuracy: 0.7832 - val_loss: 0.4602 - val_accuracy: 0.7822\n",
      "Epoch 198/250\n",
      "12432/12432 [==============================] - 0s 12us/step - loss: 0.4641 - accuracy: 0.7839 - val_loss: 0.4605 - val_accuracy: 0.7851\n",
      "Epoch 199/250\n",
      "12432/12432 [==============================] - 0s 13us/step - loss: 0.4641 - accuracy: 0.7836 - val_loss: 0.4599 - val_accuracy: 0.7880\n",
      "Epoch 200/250\n",
      "12432/12432 [==============================] - 0s 11us/step - loss: 0.4640 - accuracy: 0.7819 - val_loss: 0.4598 - val_accuracy: 0.7844\n",
      "Epoch 201/250\n",
      "12432/12432 [==============================] - 0s 11us/step - loss: 0.4635 - accuracy: 0.7836 - val_loss: 0.4599 - val_accuracy: 0.7865\n",
      "Epoch 202/250\n",
      "12432/12432 [==============================] - 0s 11us/step - loss: 0.4634 - accuracy: 0.7835 - val_loss: 0.4599 - val_accuracy: 0.7815\n",
      "Epoch 203/250\n",
      "12432/12432 [==============================] - 0s 13us/step - loss: 0.4631 - accuracy: 0.7832 - val_loss: 0.4601 - val_accuracy: 0.7858\n",
      "Epoch 204/250\n",
      "12432/12432 [==============================] - 0s 12us/step - loss: 0.4633 - accuracy: 0.7837 - val_loss: 0.4598 - val_accuracy: 0.7808\n",
      "Epoch 205/250\n",
      "12432/12432 [==============================] - 0s 12us/step - loss: 0.4629 - accuracy: 0.7837 - val_loss: 0.4597 - val_accuracy: 0.7858\n",
      "Epoch 206/250\n",
      "12432/12432 [==============================] - 0s 15us/step - loss: 0.4626 - accuracy: 0.7853 - val_loss: 0.4596 - val_accuracy: 0.7815\n",
      "Epoch 207/250\n",
      "12432/12432 [==============================] - 0s 14us/step - loss: 0.4622 - accuracy: 0.7853 - val_loss: 0.4599 - val_accuracy: 0.7822\n",
      "Epoch 208/250\n",
      "12432/12432 [==============================] - 0s 13us/step - loss: 0.4623 - accuracy: 0.7843 - val_loss: 0.4597 - val_accuracy: 0.7829\n",
      "Epoch 209/250\n",
      "12432/12432 [==============================] - 0s 12us/step - loss: 0.4622 - accuracy: 0.7847 - val_loss: 0.4606 - val_accuracy: 0.7815\n",
      "Epoch 210/250\n",
      "12432/12432 [==============================] - 0s 13us/step - loss: 0.4620 - accuracy: 0.7843 - val_loss: 0.4586 - val_accuracy: 0.7836\n",
      "Epoch 211/250\n",
      "12432/12432 [==============================] - 0s 13us/step - loss: 0.4615 - accuracy: 0.7844 - val_loss: 0.4589 - val_accuracy: 0.7815\n",
      "Epoch 212/250\n",
      "12432/12432 [==============================] - 0s 13us/step - loss: 0.4615 - accuracy: 0.7856 - val_loss: 0.4596 - val_accuracy: 0.7844\n",
      "Epoch 213/250\n",
      "12432/12432 [==============================] - 0s 14us/step - loss: 0.4615 - accuracy: 0.7849 - val_loss: 0.4584 - val_accuracy: 0.7808\n",
      "Epoch 214/250\n",
      "12432/12432 [==============================] - 0s 16us/step - loss: 0.4612 - accuracy: 0.7851 - val_loss: 0.4584 - val_accuracy: 0.7822\n",
      "Epoch 215/250\n",
      "12432/12432 [==============================] - 0s 16us/step - loss: 0.4609 - accuracy: 0.7848 - val_loss: 0.4584 - val_accuracy: 0.7808\n",
      "Epoch 216/250\n",
      "12432/12432 [==============================] - 0s 14us/step - loss: 0.4610 - accuracy: 0.7851 - val_loss: 0.4585 - val_accuracy: 0.7829\n",
      "Epoch 217/250\n",
      "12432/12432 [==============================] - 0s 13us/step - loss: 0.4606 - accuracy: 0.7850 - val_loss: 0.4579 - val_accuracy: 0.7815\n",
      "Epoch 218/250\n",
      "12432/12432 [==============================] - 0s 12us/step - loss: 0.4605 - accuracy: 0.7847 - val_loss: 0.4594 - val_accuracy: 0.7822\n",
      "Epoch 219/250\n",
      "12432/12432 [==============================] - 0s 15us/step - loss: 0.4603 - accuracy: 0.7855 - val_loss: 0.4573 - val_accuracy: 0.7800\n",
      "Epoch 220/250\n",
      "12432/12432 [==============================] - 0s 12us/step - loss: 0.4601 - accuracy: 0.7849 - val_loss: 0.4577 - val_accuracy: 0.7829\n",
      "Epoch 221/250\n",
      "12432/12432 [==============================] - 0s 12us/step - loss: 0.4600 - accuracy: 0.7851 - val_loss: 0.4575 - val_accuracy: 0.7829\n",
      "Epoch 222/250\n",
      "12432/12432 [==============================] - 0s 12us/step - loss: 0.4598 - accuracy: 0.7856 - val_loss: 0.4580 - val_accuracy: 0.7829\n",
      "Epoch 223/250\n",
      "12432/12432 [==============================] - 0s 13us/step - loss: 0.4596 - accuracy: 0.7842 - val_loss: 0.4574 - val_accuracy: 0.7836\n",
      "Epoch 224/250\n",
      "12432/12432 [==============================] - 0s 12us/step - loss: 0.4596 - accuracy: 0.7856 - val_loss: 0.4578 - val_accuracy: 0.7829\n",
      "Epoch 225/250\n",
      "12432/12432 [==============================] - 0s 12us/step - loss: 0.4596 - accuracy: 0.7853 - val_loss: 0.4575 - val_accuracy: 0.7836\n",
      "Epoch 226/250\n",
      "12432/12432 [==============================] - 0s 13us/step - loss: 0.4593 - accuracy: 0.7848 - val_loss: 0.4573 - val_accuracy: 0.7844\n",
      "Epoch 227/250\n",
      "12432/12432 [==============================] - 0s 12us/step - loss: 0.4591 - accuracy: 0.7852 - val_loss: 0.4585 - val_accuracy: 0.7844\n",
      "Epoch 228/250\n",
      "12432/12432 [==============================] - 0s 12us/step - loss: 0.4592 - accuracy: 0.7866 - val_loss: 0.4571 - val_accuracy: 0.7822\n",
      "Epoch 229/250\n",
      "12432/12432 [==============================] - 0s 11us/step - loss: 0.4591 - accuracy: 0.7848 - val_loss: 0.4574 - val_accuracy: 0.7844\n",
      "Epoch 230/250\n",
      "12432/12432 [==============================] - 0s 14us/step - loss: 0.4591 - accuracy: 0.7866 - val_loss: 0.4583 - val_accuracy: 0.7800\n",
      "Epoch 231/250\n",
      "12432/12432 [==============================] - 0s 14us/step - loss: 0.4586 - accuracy: 0.7862 - val_loss: 0.4570 - val_accuracy: 0.7793\n",
      "Epoch 232/250\n",
      "12432/12432 [==============================] - 0s 13us/step - loss: 0.4586 - accuracy: 0.7856 - val_loss: 0.4581 - val_accuracy: 0.7808\n",
      "Epoch 233/250\n",
      "12432/12432 [==============================] - 0s 15us/step - loss: 0.4587 - accuracy: 0.7857 - val_loss: 0.4572 - val_accuracy: 0.7829\n",
      "Epoch 234/250\n",
      "12432/12432 [==============================] - 0s 11us/step - loss: 0.4582 - accuracy: 0.7846 - val_loss: 0.4577 - val_accuracy: 0.7844\n",
      "Epoch 235/250\n",
      "12432/12432 [==============================] - 0s 13us/step - loss: 0.4585 - accuracy: 0.7855 - val_loss: 0.4571 - val_accuracy: 0.7851\n",
      "Epoch 236/250\n",
      "12432/12432 [==============================] - 0s 15us/step - loss: 0.4581 - accuracy: 0.7858 - val_loss: 0.4573 - val_accuracy: 0.7829\n",
      "Epoch 237/250\n",
      "12432/12432 [==============================] - 0s 12us/step - loss: 0.4582 - accuracy: 0.7854 - val_loss: 0.4572 - val_accuracy: 0.7815\n",
      "Epoch 238/250\n",
      "12432/12432 [==============================] - 0s 12us/step - loss: 0.4576 - accuracy: 0.7863 - val_loss: 0.4575 - val_accuracy: 0.7815\n",
      "Epoch 239/250\n",
      "12432/12432 [==============================] - 0s 13us/step - loss: 0.4578 - accuracy: 0.7857 - val_loss: 0.4571 - val_accuracy: 0.7851\n",
      "Epoch 240/250\n",
      "12432/12432 [==============================] - 0s 15us/step - loss: 0.4576 - accuracy: 0.7860 - val_loss: 0.4575 - val_accuracy: 0.7829\n",
      "Epoch 241/250\n",
      "12432/12432 [==============================] - 0s 12us/step - loss: 0.4574 - accuracy: 0.7856 - val_loss: 0.4570 - val_accuracy: 0.7836\n",
      "Epoch 242/250\n",
      "12432/12432 [==============================] - 0s 12us/step - loss: 0.4576 - accuracy: 0.7864 - val_loss: 0.4567 - val_accuracy: 0.7822\n",
      "Epoch 243/250\n",
      "12432/12432 [==============================] - 0s 11us/step - loss: 0.4572 - accuracy: 0.7860 - val_loss: 0.4564 - val_accuracy: 0.7836\n",
      "Epoch 244/250\n",
      "12432/12432 [==============================] - 0s 11us/step - loss: 0.4573 - accuracy: 0.7860 - val_loss: 0.4572 - val_accuracy: 0.7822\n",
      "Epoch 245/250\n",
      "12432/12432 [==============================] - 0s 10us/step - loss: 0.4575 - accuracy: 0.7872 - val_loss: 0.4568 - val_accuracy: 0.7829\n",
      "Epoch 246/250\n",
      "12432/12432 [==============================] - 0s 10us/step - loss: 0.4569 - accuracy: 0.7864 - val_loss: 0.4569 - val_accuracy: 0.7822\n",
      "Epoch 247/250\n",
      "12432/12432 [==============================] - 0s 10us/step - loss: 0.4570 - accuracy: 0.7864 - val_loss: 0.4564 - val_accuracy: 0.7851\n",
      "Epoch 248/250\n",
      "12432/12432 [==============================] - 0s 10us/step - loss: 0.4569 - accuracy: 0.7853 - val_loss: 0.4574 - val_accuracy: 0.7829\n",
      "Epoch 249/250\n",
      "12432/12432 [==============================] - 0s 13us/step - loss: 0.4569 - accuracy: 0.7864 - val_loss: 0.4577 - val_accuracy: 0.7851\n",
      "Epoch 250/250\n",
      "12432/12432 [==============================] - 0s 14us/step - loss: 0.4567 - accuracy: 0.7855 - val_loss: 0.4568 - val_accuracy: 0.7815\n"
     ]
    },
    {
     "data": {
      "text/plain": [
       "<keras.callbacks.callbacks.History at 0x13acd87a320>"
      ]
     },
     "execution_count": 145,
     "metadata": {},
     "output_type": "execute_result"
    }
   ],
   "source": [
    "model = Sequential() # Initialize the keras model\n",
    "model.add(Dense(12, input_dim=xtrain_app_energy.shape[1], activation='relu')) # Input Layer\n",
    "model.add(Dense(8, activation='relu')) # Hidden Layer\n",
    "model.add(Dense(1, activation='sigmoid')) # Output layer\n",
    "sgd_optimizer = optimizers.SGD(lr=0.001, decay=1e-7, momentum=0.9)\n",
    "model.compile(optimizer=sgd_optimizer,loss='binary_crossentropy', metrics=['accuracy'])\n",
    "model.fit(xtrain_app_energy, ytrain_app_energy, epochs=250, batch_size=100, verbose=1, validation_split=0.1)\n",
    "# After 250 iterations, accuracy = 0.7815"
   ]
  },
  {
   "cell_type": "code",
   "execution_count": 146,
   "metadata": {},
   "outputs": [
    {
     "name": "stdout",
     "output_type": "stream",
     "text": [
      "13814/13814 [==============================] - 0s 15us/step\n",
      "Train Loss:  0.4557909441612142\n",
      "Train Accuracy:  0.7867380976676941\n",
      "5921/5921 [==============================] - 0s 16us/step\n",
      "Test Loss:  0.47674169697042373\n",
      "Test Accuracy:  0.7782469391822815\n"
     ]
    }
   ],
   "source": [
    "train_results = model.evaluate(xtrain_app_energy, ytrain_app_energy, verbose=1)\n",
    "print('Train Loss: ',train_results[0])\n",
    "print('Train Accuracy: ',train_results[1])\n",
    "test_results = model.evaluate(xtest_app_energy, ytest_app_energy, verbose=1)\n",
    "print('Test Loss: ',test_results[0])\n",
    "print('Test Accuracy: ',test_results[1])"
   ]
  },
  {
   "cell_type": "code",
   "execution_count": 147,
   "metadata": {},
   "outputs": [
    {
     "name": "stdout",
     "output_type": "stream",
     "text": [
      "Confusion Matrix:\n",
      " [[2602  581]\n",
      " [ 732 2006]]\n"
     ]
    }
   ],
   "source": [
    "y_pred=model.predict(xtest_app_energy)\n",
    "y_pred =(y_pred>0.5)\n",
    "cm = confusion_matrix(ytest_app_energy, y_pred)\n",
    "print('Confusion Matrix:\\n',cm) \n",
    "# total of true positive and true negative is 4608 out of 5921 observations in the test dataset\n",
    "# so our accuracy for test dataset is around 78%"
   ]
  },
  {
   "cell_type": "markdown",
   "metadata": {},
   "source": [
    "##### German Credit"
   ]
  },
  {
   "cell_type": "code",
   "execution_count": 149,
   "metadata": {},
   "outputs": [
    {
     "name": "stdout",
     "output_type": "stream",
     "text": [
      "Train on 874 samples, validate on 98 samples\n",
      "Epoch 1/250\n",
      "874/874 [==============================] - 0s 106us/step - loss: 0.6811 - accuracy: 0.5503 - val_loss: 0.8019 - val_accuracy: 0.0918\n",
      "Epoch 2/250\n",
      "874/874 [==============================] - 0s 18us/step - loss: 0.6805 - accuracy: 0.5526 - val_loss: 0.8002 - val_accuracy: 0.0918\n",
      "Epoch 3/250\n",
      "874/874 [==============================] - 0s 21us/step - loss: 0.6796 - accuracy: 0.5561 - val_loss: 0.7975 - val_accuracy: 0.1020\n",
      "Epoch 4/250\n",
      "874/874 [==============================] - 0s 19us/step - loss: 0.6787 - accuracy: 0.5584 - val_loss: 0.7940 - val_accuracy: 0.1224\n",
      "Epoch 5/250\n",
      "874/874 [==============================] - 0s 18us/step - loss: 0.6777 - accuracy: 0.5595 - val_loss: 0.7910 - val_accuracy: 0.1224\n",
      "Epoch 6/250\n",
      "874/874 [==============================] - 0s 17us/step - loss: 0.6767 - accuracy: 0.5618 - val_loss: 0.7888 - val_accuracy: 0.1224\n",
      "Epoch 7/250\n",
      "874/874 [==============================] - 0s 15us/step - loss: 0.6757 - accuracy: 0.5664 - val_loss: 0.7870 - val_accuracy: 0.1429\n",
      "Epoch 8/250\n",
      "874/874 [==============================] - 0s 13us/step - loss: 0.6748 - accuracy: 0.5686 - val_loss: 0.7862 - val_accuracy: 0.1531\n",
      "Epoch 9/250\n",
      "874/874 [==============================] - 0s 16us/step - loss: 0.6739 - accuracy: 0.5732 - val_loss: 0.7841 - val_accuracy: 0.1735\n",
      "Epoch 10/250\n",
      "874/874 [==============================] - 0s 15us/step - loss: 0.6730 - accuracy: 0.5767 - val_loss: 0.7817 - val_accuracy: 0.1633\n",
      "Epoch 11/250\n",
      "874/874 [==============================] - 0s 17us/step - loss: 0.6721 - accuracy: 0.5767 - val_loss: 0.7813 - val_accuracy: 0.1633\n",
      "Epoch 12/250\n",
      "874/874 [==============================] - 0s 17us/step - loss: 0.6712 - accuracy: 0.5767 - val_loss: 0.7815 - val_accuracy: 0.1633\n",
      "Epoch 13/250\n",
      "874/874 [==============================] - 0s 22us/step - loss: 0.6703 - accuracy: 0.5778 - val_loss: 0.7813 - val_accuracy: 0.1633\n",
      "Epoch 14/250\n",
      "874/874 [==============================] - 0s 22us/step - loss: 0.6693 - accuracy: 0.5778 - val_loss: 0.7796 - val_accuracy: 0.1735\n",
      "Epoch 15/250\n",
      "874/874 [==============================] - 0s 15us/step - loss: 0.6684 - accuracy: 0.5778 - val_loss: 0.7798 - val_accuracy: 0.1735\n",
      "Epoch 16/250\n",
      "874/874 [==============================] - 0s 19us/step - loss: 0.6674 - accuracy: 0.5801 - val_loss: 0.7783 - val_accuracy: 0.1735\n",
      "Epoch 17/250\n",
      "874/874 [==============================] - 0s 16us/step - loss: 0.6664 - accuracy: 0.5835 - val_loss: 0.7779 - val_accuracy: 0.1735\n",
      "Epoch 18/250\n",
      "874/874 [==============================] - 0s 19us/step - loss: 0.6654 - accuracy: 0.5870 - val_loss: 0.7762 - val_accuracy: 0.1837\n",
      "Epoch 19/250\n",
      "874/874 [==============================] - 0s 11us/step - loss: 0.6645 - accuracy: 0.5858 - val_loss: 0.7756 - val_accuracy: 0.1837\n",
      "Epoch 20/250\n",
      "874/874 [==============================] - 0s 19us/step - loss: 0.6636 - accuracy: 0.5892 - val_loss: 0.7747 - val_accuracy: 0.1837\n",
      "Epoch 21/250\n",
      "874/874 [==============================] - 0s 11us/step - loss: 0.6626 - accuracy: 0.5915 - val_loss: 0.7746 - val_accuracy: 0.1939\n",
      "Epoch 22/250\n",
      "874/874 [==============================] - 0s 16us/step - loss: 0.6616 - accuracy: 0.5984 - val_loss: 0.7749 - val_accuracy: 0.1939\n",
      "Epoch 23/250\n",
      "874/874 [==============================] - 0s 11us/step - loss: 0.6607 - accuracy: 0.5984 - val_loss: 0.7754 - val_accuracy: 0.1939\n",
      "Epoch 24/250\n",
      "874/874 [==============================] - 0s 17us/step - loss: 0.6597 - accuracy: 0.5995 - val_loss: 0.7748 - val_accuracy: 0.1837\n",
      "Epoch 25/250\n",
      "874/874 [==============================] - 0s 13us/step - loss: 0.6588 - accuracy: 0.5995 - val_loss: 0.7739 - val_accuracy: 0.1939\n",
      "Epoch 26/250\n",
      "874/874 [==============================] - 0s 14us/step - loss: 0.6578 - accuracy: 0.5995 - val_loss: 0.7726 - val_accuracy: 0.2041\n",
      "Epoch 27/250\n",
      "874/874 [==============================] - 0s 11us/step - loss: 0.6568 - accuracy: 0.6030 - val_loss: 0.7727 - val_accuracy: 0.2041\n",
      "Epoch 28/250\n",
      "874/874 [==============================] - 0s 16us/step - loss: 0.6559 - accuracy: 0.6030 - val_loss: 0.7707 - val_accuracy: 0.2143\n",
      "Epoch 29/250\n",
      "874/874 [==============================] - 0s 10us/step - loss: 0.6550 - accuracy: 0.6076 - val_loss: 0.7684 - val_accuracy: 0.2143\n",
      "Epoch 30/250\n",
      "874/874 [==============================] - 0s 17us/step - loss: 0.6539 - accuracy: 0.6121 - val_loss: 0.7678 - val_accuracy: 0.2347\n",
      "Epoch 31/250\n",
      "874/874 [==============================] - 0s 11us/step - loss: 0.6530 - accuracy: 0.6121 - val_loss: 0.7695 - val_accuracy: 0.2245\n",
      "Epoch 32/250\n",
      "874/874 [==============================] - 0s 16us/step - loss: 0.6519 - accuracy: 0.6156 - val_loss: 0.7683 - val_accuracy: 0.2551\n",
      "Epoch 33/250\n",
      "874/874 [==============================] - 0s 14us/step - loss: 0.6508 - accuracy: 0.6144 - val_loss: 0.7677 - val_accuracy: 0.2653\n",
      "Epoch 34/250\n",
      "874/874 [==============================] - 0s 13us/step - loss: 0.6497 - accuracy: 0.6167 - val_loss: 0.7677 - val_accuracy: 0.2653\n",
      "Epoch 35/250\n",
      "874/874 [==============================] - 0s 15us/step - loss: 0.6485 - accuracy: 0.6190 - val_loss: 0.7662 - val_accuracy: 0.2653\n",
      "Epoch 36/250\n",
      "874/874 [==============================] - 0s 13us/step - loss: 0.6474 - accuracy: 0.6236 - val_loss: 0.7629 - val_accuracy: 0.2857\n",
      "Epoch 37/250\n",
      "874/874 [==============================] - 0s 15us/step - loss: 0.6462 - accuracy: 0.6304 - val_loss: 0.7628 - val_accuracy: 0.2857\n",
      "Epoch 38/250\n",
      "874/874 [==============================] - 0s 14us/step - loss: 0.6449 - accuracy: 0.6362 - val_loss: 0.7602 - val_accuracy: 0.2857\n",
      "Epoch 39/250\n",
      "874/874 [==============================] - 0s 16us/step - loss: 0.6437 - accuracy: 0.6407 - val_loss: 0.7596 - val_accuracy: 0.2959\n",
      "Epoch 40/250\n",
      "874/874 [==============================] - 0s 15us/step - loss: 0.6425 - accuracy: 0.6430 - val_loss: 0.7575 - val_accuracy: 0.3061\n",
      "Epoch 41/250\n",
      "874/874 [==============================] - 0s 15us/step - loss: 0.6412 - accuracy: 0.6465 - val_loss: 0.7563 - val_accuracy: 0.3367\n",
      "Epoch 42/250\n",
      "874/874 [==============================] - 0s 15us/step - loss: 0.6399 - accuracy: 0.6487 - val_loss: 0.7539 - val_accuracy: 0.3469\n",
      "Epoch 43/250\n",
      "874/874 [==============================] - 0s 15us/step - loss: 0.6386 - accuracy: 0.6522 - val_loss: 0.7525 - val_accuracy: 0.3776\n",
      "Epoch 44/250\n",
      "874/874 [==============================] - 0s 16us/step - loss: 0.6372 - accuracy: 0.6510 - val_loss: 0.7514 - val_accuracy: 0.3878\n",
      "Epoch 45/250\n",
      "874/874 [==============================] - 0s 16us/step - loss: 0.6358 - accuracy: 0.6533 - val_loss: 0.7497 - val_accuracy: 0.3776\n",
      "Epoch 46/250\n",
      "874/874 [==============================] - 0s 17us/step - loss: 0.6344 - accuracy: 0.6556 - val_loss: 0.7482 - val_accuracy: 0.3776\n",
      "Epoch 47/250\n",
      "874/874 [==============================] - 0s 18us/step - loss: 0.6330 - accuracy: 0.6613 - val_loss: 0.7483 - val_accuracy: 0.3980\n",
      "Epoch 48/250\n",
      "874/874 [==============================] - 0s 18us/step - loss: 0.6316 - accuracy: 0.6648 - val_loss: 0.7482 - val_accuracy: 0.3980\n",
      "Epoch 49/250\n",
      "874/874 [==============================] - 0s 18us/step - loss: 0.6301 - accuracy: 0.6659 - val_loss: 0.7459 - val_accuracy: 0.3980\n",
      "Epoch 50/250\n",
      "874/874 [==============================] - 0s 14us/step - loss: 0.6286 - accuracy: 0.6659 - val_loss: 0.7459 - val_accuracy: 0.3980\n",
      "Epoch 51/250\n",
      "874/874 [==============================] - 0s 14us/step - loss: 0.6273 - accuracy: 0.6682 - val_loss: 0.7429 - val_accuracy: 0.4184\n",
      "Epoch 52/250\n",
      "874/874 [==============================] - 0s 16us/step - loss: 0.6257 - accuracy: 0.6705 - val_loss: 0.7417 - val_accuracy: 0.4286\n",
      "Epoch 53/250\n",
      "874/874 [==============================] - 0s 15us/step - loss: 0.6242 - accuracy: 0.6670 - val_loss: 0.7399 - val_accuracy: 0.4490\n",
      "Epoch 54/250\n",
      "874/874 [==============================] - 0s 13us/step - loss: 0.6227 - accuracy: 0.6693 - val_loss: 0.7409 - val_accuracy: 0.4490\n",
      "Epoch 55/250\n",
      "874/874 [==============================] - 0s 13us/step - loss: 0.6211 - accuracy: 0.6716 - val_loss: 0.7391 - val_accuracy: 0.4694\n",
      "Epoch 56/250\n",
      "874/874 [==============================] - 0s 13us/step - loss: 0.6196 - accuracy: 0.6808 - val_loss: 0.7358 - val_accuracy: 0.4694\n",
      "Epoch 57/250\n",
      "874/874 [==============================] - 0s 14us/step - loss: 0.6180 - accuracy: 0.6842 - val_loss: 0.7316 - val_accuracy: 0.4796\n",
      "Epoch 58/250\n",
      "874/874 [==============================] - 0s 10us/step - loss: 0.6164 - accuracy: 0.6842 - val_loss: 0.7327 - val_accuracy: 0.4796\n",
      "Epoch 59/250\n",
      "874/874 [==============================] - 0s 16us/step - loss: 0.6147 - accuracy: 0.6865 - val_loss: 0.7323 - val_accuracy: 0.4796\n",
      "Epoch 60/250\n",
      "874/874 [==============================] - 0s 17us/step - loss: 0.6131 - accuracy: 0.6945 - val_loss: 0.7265 - val_accuracy: 0.4898\n",
      "Epoch 61/250\n",
      "874/874 [==============================] - 0s 16us/step - loss: 0.6113 - accuracy: 0.6979 - val_loss: 0.7250 - val_accuracy: 0.5000\n",
      "Epoch 62/250\n",
      "874/874 [==============================] - 0s 16us/step - loss: 0.6095 - accuracy: 0.7002 - val_loss: 0.7243 - val_accuracy: 0.5000\n",
      "Epoch 63/250\n",
      "874/874 [==============================] - 0s 16us/step - loss: 0.6078 - accuracy: 0.7025 - val_loss: 0.7217 - val_accuracy: 0.5102\n",
      "Epoch 64/250\n",
      "874/874 [==============================] - 0s 15us/step - loss: 0.6060 - accuracy: 0.7059 - val_loss: 0.7208 - val_accuracy: 0.5204\n",
      "Epoch 65/250\n",
      "874/874 [==============================] - 0s 15us/step - loss: 0.6042 - accuracy: 0.7082 - val_loss: 0.7182 - val_accuracy: 0.5204\n",
      "Epoch 66/250\n",
      "874/874 [==============================] - 0s 14us/step - loss: 0.6024 - accuracy: 0.7082 - val_loss: 0.7182 - val_accuracy: 0.5204\n",
      "Epoch 67/250\n",
      "874/874 [==============================] - 0s 16us/step - loss: 0.6005 - accuracy: 0.7059 - val_loss: 0.7164 - val_accuracy: 0.5306\n",
      "Epoch 68/250\n",
      "874/874 [==============================] - 0s 14us/step - loss: 0.5987 - accuracy: 0.7082 - val_loss: 0.7140 - val_accuracy: 0.5408\n",
      "Epoch 69/250\n",
      "874/874 [==============================] - 0s 14us/step - loss: 0.5970 - accuracy: 0.7117 - val_loss: 0.7137 - val_accuracy: 0.5306\n",
      "Epoch 70/250\n",
      "874/874 [==============================] - 0s 14us/step - loss: 0.5951 - accuracy: 0.7151 - val_loss: 0.7085 - val_accuracy: 0.5612\n",
      "Epoch 71/250\n",
      "874/874 [==============================] - 0s 17us/step - loss: 0.5934 - accuracy: 0.7185 - val_loss: 0.7039 - val_accuracy: 0.5510\n",
      "Epoch 72/250\n",
      "874/874 [==============================] - 0s 14us/step - loss: 0.5915 - accuracy: 0.7185 - val_loss: 0.7018 - val_accuracy: 0.5612\n",
      "Epoch 73/250\n",
      "874/874 [==============================] - 0s 16us/step - loss: 0.5897 - accuracy: 0.7197 - val_loss: 0.7000 - val_accuracy: 0.5510\n",
      "Epoch 74/250\n",
      "874/874 [==============================] - 0s 13us/step - loss: 0.5878 - accuracy: 0.7185 - val_loss: 0.6960 - val_accuracy: 0.5510\n",
      "Epoch 75/250\n",
      "874/874 [==============================] - 0s 14us/step - loss: 0.5860 - accuracy: 0.7197 - val_loss: 0.6933 - val_accuracy: 0.5510\n",
      "Epoch 76/250\n",
      "874/874 [==============================] - 0s 16us/step - loss: 0.5842 - accuracy: 0.7185 - val_loss: 0.6909 - val_accuracy: 0.5612\n",
      "Epoch 77/250\n",
      "874/874 [==============================] - 0s 11us/step - loss: 0.5826 - accuracy: 0.7208 - val_loss: 0.6826 - val_accuracy: 0.5714\n",
      "Epoch 78/250\n",
      "874/874 [==============================] - 0s 11us/step - loss: 0.5807 - accuracy: 0.7277 - val_loss: 0.6820 - val_accuracy: 0.5714\n",
      "Epoch 79/250\n",
      "874/874 [==============================] - 0s 14us/step - loss: 0.5788 - accuracy: 0.7277 - val_loss: 0.6786 - val_accuracy: 0.5714\n",
      "Epoch 80/250\n",
      "874/874 [==============================] - 0s 13us/step - loss: 0.5770 - accuracy: 0.7311 - val_loss: 0.6790 - val_accuracy: 0.5714\n",
      "Epoch 81/250\n",
      "874/874 [==============================] - 0s 15us/step - loss: 0.5753 - accuracy: 0.7334 - val_loss: 0.6786 - val_accuracy: 0.5816\n",
      "Epoch 82/250\n",
      "874/874 [==============================] - 0s 13us/step - loss: 0.5738 - accuracy: 0.7311 - val_loss: 0.6805 - val_accuracy: 0.5816\n",
      "Epoch 83/250\n",
      "874/874 [==============================] - 0s 16us/step - loss: 0.5719 - accuracy: 0.7334 - val_loss: 0.6720 - val_accuracy: 0.6020\n",
      "Epoch 84/250\n",
      "874/874 [==============================] - 0s 16us/step - loss: 0.5701 - accuracy: 0.7300 - val_loss: 0.6684 - val_accuracy: 0.6020\n",
      "Epoch 85/250\n",
      "874/874 [==============================] - 0s 16us/step - loss: 0.5684 - accuracy: 0.7334 - val_loss: 0.6608 - val_accuracy: 0.6020\n",
      "Epoch 86/250\n",
      "874/874 [==============================] - 0s 15us/step - loss: 0.5667 - accuracy: 0.7346 - val_loss: 0.6599 - val_accuracy: 0.6020\n",
      "Epoch 87/250\n",
      "874/874 [==============================] - 0s 14us/step - loss: 0.5650 - accuracy: 0.7357 - val_loss: 0.6541 - val_accuracy: 0.6122\n",
      "Epoch 88/250\n",
      "874/874 [==============================] - 0s 16us/step - loss: 0.5633 - accuracy: 0.7403 - val_loss: 0.6510 - val_accuracy: 0.6122\n",
      "Epoch 89/250\n",
      "874/874 [==============================] - 0s 15us/step - loss: 0.5616 - accuracy: 0.7403 - val_loss: 0.6503 - val_accuracy: 0.6122\n",
      "Epoch 90/250\n",
      "874/874 [==============================] - 0s 14us/step - loss: 0.5599 - accuracy: 0.7403 - val_loss: 0.6488 - val_accuracy: 0.6122\n",
      "Epoch 91/250\n",
      "874/874 [==============================] - 0s 17us/step - loss: 0.5584 - accuracy: 0.7391 - val_loss: 0.6420 - val_accuracy: 0.6224\n",
      "Epoch 92/250\n",
      "874/874 [==============================] - 0s 13us/step - loss: 0.5566 - accuracy: 0.7391 - val_loss: 0.6401 - val_accuracy: 0.6327\n",
      "Epoch 93/250\n",
      "874/874 [==============================] - 0s 13us/step - loss: 0.5550 - accuracy: 0.7391 - val_loss: 0.6379 - val_accuracy: 0.6327\n",
      "Epoch 94/250\n",
      "874/874 [==============================] - 0s 16us/step - loss: 0.5534 - accuracy: 0.7391 - val_loss: 0.6350 - val_accuracy: 0.6327\n",
      "Epoch 95/250\n",
      "874/874 [==============================] - 0s 13us/step - loss: 0.5517 - accuracy: 0.7380 - val_loss: 0.6304 - val_accuracy: 0.6327\n",
      "Epoch 96/250\n",
      "874/874 [==============================] - 0s 14us/step - loss: 0.5501 - accuracy: 0.7403 - val_loss: 0.6232 - val_accuracy: 0.6429\n",
      "Epoch 97/250\n",
      "874/874 [==============================] - 0s 15us/step - loss: 0.5485 - accuracy: 0.7391 - val_loss: 0.6206 - val_accuracy: 0.6531\n",
      "Epoch 98/250\n",
      "874/874 [==============================] - 0s 14us/step - loss: 0.5471 - accuracy: 0.7391 - val_loss: 0.6209 - val_accuracy: 0.6327\n",
      "Epoch 99/250\n",
      "874/874 [==============================] - 0s 13us/step - loss: 0.5455 - accuracy: 0.7414 - val_loss: 0.6190 - val_accuracy: 0.6429\n",
      "Epoch 100/250\n",
      "874/874 [==============================] - 0s 14us/step - loss: 0.5439 - accuracy: 0.7403 - val_loss: 0.6137 - val_accuracy: 0.6633\n",
      "Epoch 101/250\n",
      "874/874 [==============================] - 0s 15us/step - loss: 0.5426 - accuracy: 0.7414 - val_loss: 0.6137 - val_accuracy: 0.6735\n",
      "Epoch 102/250\n",
      "874/874 [==============================] - 0s 16us/step - loss: 0.5411 - accuracy: 0.7403 - val_loss: 0.6103 - val_accuracy: 0.6735\n",
      "Epoch 103/250\n",
      "874/874 [==============================] - 0s 15us/step - loss: 0.5397 - accuracy: 0.7391 - val_loss: 0.6071 - val_accuracy: 0.6735\n",
      "Epoch 104/250\n",
      "874/874 [==============================] - 0s 13us/step - loss: 0.5384 - accuracy: 0.7380 - val_loss: 0.6025 - val_accuracy: 0.6735\n",
      "Epoch 105/250\n",
      "874/874 [==============================] - 0s 13us/step - loss: 0.5370 - accuracy: 0.7391 - val_loss: 0.6025 - val_accuracy: 0.6735\n",
      "Epoch 106/250\n",
      "874/874 [==============================] - 0s 14us/step - loss: 0.5357 - accuracy: 0.7391 - val_loss: 0.6013 - val_accuracy: 0.6735\n",
      "Epoch 107/250\n",
      "874/874 [==============================] - 0s 11us/step - loss: 0.5344 - accuracy: 0.7391 - val_loss: 0.6013 - val_accuracy: 0.6735\n",
      "Epoch 108/250\n",
      "874/874 [==============================] - 0s 13us/step - loss: 0.5332 - accuracy: 0.7391 - val_loss: 0.5938 - val_accuracy: 0.6735\n",
      "Epoch 109/250\n",
      "874/874 [==============================] - 0s 13us/step - loss: 0.5319 - accuracy: 0.7414 - val_loss: 0.5950 - val_accuracy: 0.6735\n",
      "Epoch 110/250\n",
      "874/874 [==============================] - 0s 11us/step - loss: 0.5305 - accuracy: 0.7403 - val_loss: 0.5906 - val_accuracy: 0.6735\n",
      "Epoch 111/250\n",
      "874/874 [==============================] - 0s 16us/step - loss: 0.5293 - accuracy: 0.7414 - val_loss: 0.5864 - val_accuracy: 0.6735\n",
      "Epoch 112/250\n",
      "874/874 [==============================] - 0s 15us/step - loss: 0.5282 - accuracy: 0.7426 - val_loss: 0.5857 - val_accuracy: 0.6735\n",
      "Epoch 113/250\n",
      "874/874 [==============================] - 0s 11us/step - loss: 0.5271 - accuracy: 0.7437 - val_loss: 0.5852 - val_accuracy: 0.6837\n",
      "Epoch 114/250\n",
      "874/874 [==============================] - 0s 15us/step - loss: 0.5260 - accuracy: 0.7449 - val_loss: 0.5767 - val_accuracy: 0.6939\n",
      "Epoch 115/250\n",
      "874/874 [==============================] - 0s 13us/step - loss: 0.5249 - accuracy: 0.7426 - val_loss: 0.5768 - val_accuracy: 0.6939\n",
      "Epoch 116/250\n",
      "874/874 [==============================] - 0s 14us/step - loss: 0.5238 - accuracy: 0.7449 - val_loss: 0.5765 - val_accuracy: 0.6939\n",
      "Epoch 117/250\n",
      "874/874 [==============================] - 0s 13us/step - loss: 0.5228 - accuracy: 0.7426 - val_loss: 0.5752 - val_accuracy: 0.6939\n",
      "Epoch 118/250\n",
      "874/874 [==============================] - 0s 15us/step - loss: 0.5218 - accuracy: 0.7437 - val_loss: 0.5755 - val_accuracy: 0.6939\n",
      "Epoch 119/250\n",
      "874/874 [==============================] - 0s 14us/step - loss: 0.5207 - accuracy: 0.7426 - val_loss: 0.5734 - val_accuracy: 0.7041\n",
      "Epoch 120/250\n",
      "874/874 [==============================] - 0s 16us/step - loss: 0.5198 - accuracy: 0.7437 - val_loss: 0.5717 - val_accuracy: 0.7041\n",
      "Epoch 121/250\n",
      "874/874 [==============================] - 0s 17us/step - loss: 0.5189 - accuracy: 0.7449 - val_loss: 0.5699 - val_accuracy: 0.7041\n",
      "Epoch 122/250\n",
      "874/874 [==============================] - 0s 17us/step - loss: 0.5179 - accuracy: 0.7471 - val_loss: 0.5678 - val_accuracy: 0.7041\n",
      "Epoch 123/250\n",
      "874/874 [==============================] - 0s 21us/step - loss: 0.5171 - accuracy: 0.7449 - val_loss: 0.5694 - val_accuracy: 0.7041\n",
      "Epoch 124/250\n",
      "874/874 [==============================] - 0s 18us/step - loss: 0.5161 - accuracy: 0.7460 - val_loss: 0.5665 - val_accuracy: 0.7041\n",
      "Epoch 125/250\n",
      "874/874 [==============================] - 0s 24us/step - loss: 0.5152 - accuracy: 0.7483 - val_loss: 0.5606 - val_accuracy: 0.7041\n",
      "Epoch 126/250\n",
      "874/874 [==============================] - 0s 18us/step - loss: 0.5144 - accuracy: 0.7506 - val_loss: 0.5606 - val_accuracy: 0.7041\n",
      "Epoch 127/250\n",
      "874/874 [==============================] - 0s 18us/step - loss: 0.5135 - accuracy: 0.7540 - val_loss: 0.5567 - val_accuracy: 0.7041\n",
      "Epoch 128/250\n",
      "874/874 [==============================] - 0s 15us/step - loss: 0.5127 - accuracy: 0.7551 - val_loss: 0.5562 - val_accuracy: 0.7041\n",
      "Epoch 129/250\n",
      "874/874 [==============================] - 0s 11us/step - loss: 0.5119 - accuracy: 0.7540 - val_loss: 0.5565 - val_accuracy: 0.7041\n",
      "Epoch 130/250\n",
      "874/874 [==============================] - 0s 13us/step - loss: 0.5111 - accuracy: 0.7517 - val_loss: 0.5612 - val_accuracy: 0.7041\n",
      "Epoch 131/250\n",
      "874/874 [==============================] - 0s 11us/step - loss: 0.5103 - accuracy: 0.7529 - val_loss: 0.5599 - val_accuracy: 0.7041\n",
      "Epoch 132/250\n",
      "874/874 [==============================] - 0s 15us/step - loss: 0.5096 - accuracy: 0.7551 - val_loss: 0.5520 - val_accuracy: 0.7041\n",
      "Epoch 133/250\n",
      "874/874 [==============================] - 0s 15us/step - loss: 0.5087 - accuracy: 0.7540 - val_loss: 0.5530 - val_accuracy: 0.7041\n",
      "Epoch 134/250\n",
      "874/874 [==============================] - 0s 17us/step - loss: 0.5080 - accuracy: 0.7529 - val_loss: 0.5507 - val_accuracy: 0.7143\n",
      "Epoch 135/250\n",
      "874/874 [==============================] - 0s 14us/step - loss: 0.5074 - accuracy: 0.7574 - val_loss: 0.5568 - val_accuracy: 0.6939\n",
      "Epoch 136/250\n",
      "874/874 [==============================] - 0s 15us/step - loss: 0.5066 - accuracy: 0.7540 - val_loss: 0.5503 - val_accuracy: 0.7143\n",
      "Epoch 137/250\n",
      "874/874 [==============================] - 0s 13us/step - loss: 0.5059 - accuracy: 0.7529 - val_loss: 0.5518 - val_accuracy: 0.6939\n",
      "Epoch 138/250\n",
      "874/874 [==============================] - 0s 13us/step - loss: 0.5051 - accuracy: 0.7563 - val_loss: 0.5447 - val_accuracy: 0.7449\n",
      "Epoch 139/250\n",
      "874/874 [==============================] - 0s 15us/step - loss: 0.5045 - accuracy: 0.7563 - val_loss: 0.5394 - val_accuracy: 0.7551\n",
      "Epoch 140/250\n",
      "874/874 [==============================] - 0s 14us/step - loss: 0.5037 - accuracy: 0.7563 - val_loss: 0.5456 - val_accuracy: 0.7245\n",
      "Epoch 141/250\n",
      "874/874 [==============================] - 0s 14us/step - loss: 0.5030 - accuracy: 0.7563 - val_loss: 0.5448 - val_accuracy: 0.7245\n",
      "Epoch 142/250\n",
      "874/874 [==============================] - 0s 10us/step - loss: 0.5024 - accuracy: 0.7574 - val_loss: 0.5457 - val_accuracy: 0.7245\n",
      "Epoch 143/250\n",
      "874/874 [==============================] - 0s 11us/step - loss: 0.5017 - accuracy: 0.7574 - val_loss: 0.5447 - val_accuracy: 0.7245\n",
      "Epoch 144/250\n",
      "874/874 [==============================] - 0s 13us/step - loss: 0.5011 - accuracy: 0.7563 - val_loss: 0.5381 - val_accuracy: 0.7449\n",
      "Epoch 145/250\n",
      "874/874 [==============================] - ETA: 0s - loss: 0.4910 - accuracy: 0.75 - 0s 14us/step - loss: 0.5006 - accuracy: 0.7574 - val_loss: 0.5423 - val_accuracy: 0.7245\n",
      "Epoch 146/250\n",
      "874/874 [==============================] - 0s 13us/step - loss: 0.4998 - accuracy: 0.7574 - val_loss: 0.5386 - val_accuracy: 0.7245\n",
      "Epoch 147/250\n",
      "874/874 [==============================] - 0s 14us/step - loss: 0.4993 - accuracy: 0.7563 - val_loss: 0.5405 - val_accuracy: 0.7245\n",
      "Epoch 148/250\n",
      "874/874 [==============================] - 0s 14us/step - loss: 0.4987 - accuracy: 0.7563 - val_loss: 0.5346 - val_accuracy: 0.7449\n",
      "Epoch 149/250\n",
      "874/874 [==============================] - 0s 14us/step - loss: 0.4981 - accuracy: 0.7563 - val_loss: 0.5366 - val_accuracy: 0.7347\n",
      "Epoch 150/250\n",
      "874/874 [==============================] - 0s 15us/step - loss: 0.4974 - accuracy: 0.7563 - val_loss: 0.5377 - val_accuracy: 0.7245\n",
      "Epoch 151/250\n",
      "874/874 [==============================] - 0s 13us/step - loss: 0.4968 - accuracy: 0.7563 - val_loss: 0.5339 - val_accuracy: 0.7449\n",
      "Epoch 152/250\n",
      "874/874 [==============================] - 0s 14us/step - loss: 0.4963 - accuracy: 0.7551 - val_loss: 0.5354 - val_accuracy: 0.7347\n",
      "Epoch 153/250\n",
      "874/874 [==============================] - 0s 13us/step - loss: 0.4957 - accuracy: 0.7563 - val_loss: 0.5302 - val_accuracy: 0.7551\n",
      "Epoch 154/250\n",
      "874/874 [==============================] - 0s 16us/step - loss: 0.4951 - accuracy: 0.7574 - val_loss: 0.5323 - val_accuracy: 0.7449\n",
      "Epoch 155/250\n",
      "874/874 [==============================] - 0s 11us/step - loss: 0.4947 - accuracy: 0.7574 - val_loss: 0.5347 - val_accuracy: 0.7347\n",
      "Epoch 156/250\n",
      "874/874 [==============================] - 0s 21us/step - loss: 0.4940 - accuracy: 0.7551 - val_loss: 0.5295 - val_accuracy: 0.7653\n",
      "Epoch 157/250\n",
      "874/874 [==============================] - 0s 19us/step - loss: 0.4935 - accuracy: 0.7563 - val_loss: 0.5309 - val_accuracy: 0.7653\n",
      "Epoch 158/250\n",
      "874/874 [==============================] - 0s 14us/step - loss: 0.4931 - accuracy: 0.7563 - val_loss: 0.5239 - val_accuracy: 0.7755\n",
      "Epoch 159/250\n",
      "874/874 [==============================] - 0s 19us/step - loss: 0.4924 - accuracy: 0.7551 - val_loss: 0.5277 - val_accuracy: 0.7653\n",
      "Epoch 160/250\n",
      "874/874 [==============================] - 0s 13us/step - loss: 0.4919 - accuracy: 0.7551 - val_loss: 0.5349 - val_accuracy: 0.7449\n",
      "Epoch 161/250\n",
      "874/874 [==============================] - 0s 13us/step - loss: 0.4915 - accuracy: 0.7563 - val_loss: 0.5363 - val_accuracy: 0.7449\n",
      "Epoch 162/250\n",
      "874/874 [==============================] - 0s 14us/step - loss: 0.4909 - accuracy: 0.7551 - val_loss: 0.5260 - val_accuracy: 0.7653\n",
      "Epoch 163/250\n",
      "874/874 [==============================] - 0s 17us/step - loss: 0.4904 - accuracy: 0.7574 - val_loss: 0.5243 - val_accuracy: 0.7653\n",
      "Epoch 164/250\n",
      "874/874 [==============================] - 0s 17us/step - loss: 0.4900 - accuracy: 0.7563 - val_loss: 0.5272 - val_accuracy: 0.7551\n",
      "Epoch 165/250\n",
      "874/874 [==============================] - 0s 15us/step - loss: 0.4894 - accuracy: 0.7574 - val_loss: 0.5286 - val_accuracy: 0.7551\n",
      "Epoch 166/250\n",
      "874/874 [==============================] - 0s 17us/step - loss: 0.4890 - accuracy: 0.7563 - val_loss: 0.5274 - val_accuracy: 0.7551\n",
      "Epoch 167/250\n",
      "874/874 [==============================] - 0s 17us/step - loss: 0.4885 - accuracy: 0.7574 - val_loss: 0.5227 - val_accuracy: 0.7653\n",
      "Epoch 168/250\n",
      "874/874 [==============================] - 0s 15us/step - loss: 0.4881 - accuracy: 0.7574 - val_loss: 0.5202 - val_accuracy: 0.7653\n",
      "Epoch 169/250\n",
      "874/874 [==============================] - 0s 17us/step - loss: 0.4877 - accuracy: 0.7563 - val_loss: 0.5154 - val_accuracy: 0.7755\n",
      "Epoch 170/250\n",
      "874/874 [==============================] - 0s 15us/step - loss: 0.4871 - accuracy: 0.7563 - val_loss: 0.5224 - val_accuracy: 0.7551\n",
      "Epoch 171/250\n",
      "874/874 [==============================] - 0s 16us/step - loss: 0.4866 - accuracy: 0.7574 - val_loss: 0.5246 - val_accuracy: 0.7551\n",
      "Epoch 172/250\n",
      "874/874 [==============================] - 0s 16us/step - loss: 0.4863 - accuracy: 0.7586 - val_loss: 0.5296 - val_accuracy: 0.7551\n",
      "Epoch 173/250\n",
      "874/874 [==============================] - 0s 15us/step - loss: 0.4859 - accuracy: 0.7574 - val_loss: 0.5201 - val_accuracy: 0.7653\n",
      "Epoch 174/250\n",
      "874/874 [==============================] - 0s 17us/step - loss: 0.4855 - accuracy: 0.7563 - val_loss: 0.5265 - val_accuracy: 0.7449\n",
      "Epoch 175/250\n",
      "874/874 [==============================] - 0s 16us/step - loss: 0.4849 - accuracy: 0.7574 - val_loss: 0.5169 - val_accuracy: 0.7653\n",
      "Epoch 176/250\n",
      "874/874 [==============================] - 0s 19us/step - loss: 0.4844 - accuracy: 0.7586 - val_loss: 0.5145 - val_accuracy: 0.7857\n",
      "Epoch 177/250\n",
      "874/874 [==============================] - 0s 18us/step - loss: 0.4840 - accuracy: 0.7609 - val_loss: 0.5210 - val_accuracy: 0.7449\n",
      "Epoch 178/250\n",
      "874/874 [==============================] - 0s 18us/step - loss: 0.4836 - accuracy: 0.7574 - val_loss: 0.5178 - val_accuracy: 0.7551\n",
      "Epoch 179/250\n",
      "874/874 [==============================] - 0s 18us/step - loss: 0.4831 - accuracy: 0.7586 - val_loss: 0.5148 - val_accuracy: 0.7755\n",
      "Epoch 180/250\n",
      "874/874 [==============================] - 0s 18us/step - loss: 0.4828 - accuracy: 0.7586 - val_loss: 0.5211 - val_accuracy: 0.7449\n",
      "Epoch 181/250\n",
      "874/874 [==============================] - 0s 17us/step - loss: 0.4823 - accuracy: 0.7597 - val_loss: 0.5206 - val_accuracy: 0.7449\n",
      "Epoch 182/250\n",
      "874/874 [==============================] - 0s 18us/step - loss: 0.4819 - accuracy: 0.7597 - val_loss: 0.5202 - val_accuracy: 0.7551\n",
      "Epoch 183/250\n",
      "874/874 [==============================] - 0s 21us/step - loss: 0.4815 - accuracy: 0.7597 - val_loss: 0.5145 - val_accuracy: 0.7551\n",
      "Epoch 184/250\n",
      "874/874 [==============================] - 0s 18us/step - loss: 0.4811 - accuracy: 0.7574 - val_loss: 0.5193 - val_accuracy: 0.7551\n",
      "Epoch 185/250\n",
      "874/874 [==============================] - 0s 14us/step - loss: 0.4806 - accuracy: 0.7586 - val_loss: 0.5193 - val_accuracy: 0.7551\n",
      "Epoch 186/250\n",
      "874/874 [==============================] - 0s 17us/step - loss: 0.4802 - accuracy: 0.7597 - val_loss: 0.5128 - val_accuracy: 0.7551\n",
      "Epoch 187/250\n",
      "874/874 [==============================] - 0s 16us/step - loss: 0.4798 - accuracy: 0.7597 - val_loss: 0.5154 - val_accuracy: 0.7551\n",
      "Epoch 188/250\n",
      "874/874 [==============================] - 0s 21us/step - loss: 0.4794 - accuracy: 0.7586 - val_loss: 0.5139 - val_accuracy: 0.7551\n",
      "Epoch 189/250\n",
      "874/874 [==============================] - 0s 17us/step - loss: 0.4790 - accuracy: 0.7597 - val_loss: 0.5111 - val_accuracy: 0.7653\n",
      "Epoch 190/250\n",
      "874/874 [==============================] - 0s 17us/step - loss: 0.4786 - accuracy: 0.7597 - val_loss: 0.5129 - val_accuracy: 0.7551\n",
      "Epoch 191/250\n",
      "874/874 [==============================] - 0s 18us/step - loss: 0.4782 - accuracy: 0.7609 - val_loss: 0.5112 - val_accuracy: 0.7755\n",
      "Epoch 192/250\n",
      "874/874 [==============================] - 0s 21us/step - loss: 0.4778 - accuracy: 0.7609 - val_loss: 0.5113 - val_accuracy: 0.7755\n",
      "Epoch 193/250\n",
      "874/874 [==============================] - 0s 22us/step - loss: 0.4774 - accuracy: 0.7609 - val_loss: 0.5095 - val_accuracy: 0.7755\n",
      "Epoch 194/250\n",
      "874/874 [==============================] - 0s 18us/step - loss: 0.4770 - accuracy: 0.7609 - val_loss: 0.5085 - val_accuracy: 0.7755\n",
      "Epoch 195/250\n",
      "874/874 [==============================] - 0s 19us/step - loss: 0.4766 - accuracy: 0.7609 - val_loss: 0.5103 - val_accuracy: 0.7755\n",
      "Epoch 196/250\n",
      "874/874 [==============================] - 0s 21us/step - loss: 0.4761 - accuracy: 0.7620 - val_loss: 0.5137 - val_accuracy: 0.7653\n",
      "Epoch 197/250\n",
      "874/874 [==============================] - 0s 17us/step - loss: 0.4758 - accuracy: 0.7632 - val_loss: 0.5104 - val_accuracy: 0.7653\n",
      "Epoch 198/250\n",
      "874/874 [==============================] - 0s 15us/step - loss: 0.4754 - accuracy: 0.7609 - val_loss: 0.5079 - val_accuracy: 0.7857\n",
      "Epoch 199/250\n",
      "874/874 [==============================] - 0s 15us/step - loss: 0.4749 - accuracy: 0.7632 - val_loss: 0.5094 - val_accuracy: 0.7653\n",
      "Epoch 200/250\n",
      "874/874 [==============================] - 0s 13us/step - loss: 0.4746 - accuracy: 0.7620 - val_loss: 0.5106 - val_accuracy: 0.7653\n",
      "Epoch 201/250\n",
      "874/874 [==============================] - 0s 11us/step - loss: 0.4742 - accuracy: 0.7620 - val_loss: 0.5162 - val_accuracy: 0.7653\n",
      "Epoch 202/250\n",
      "874/874 [==============================] - 0s 16us/step - loss: 0.4739 - accuracy: 0.7632 - val_loss: 0.5138 - val_accuracy: 0.7653\n",
      "Epoch 203/250\n",
      "874/874 [==============================] - 0s 16us/step - loss: 0.4734 - accuracy: 0.7632 - val_loss: 0.5039 - val_accuracy: 0.7857\n",
      "Epoch 204/250\n",
      "874/874 [==============================] - 0s 14us/step - loss: 0.4730 - accuracy: 0.7632 - val_loss: 0.5059 - val_accuracy: 0.7857\n",
      "Epoch 205/250\n",
      "874/874 [==============================] - 0s 15us/step - loss: 0.4726 - accuracy: 0.7632 - val_loss: 0.5068 - val_accuracy: 0.7857\n",
      "Epoch 206/250\n",
      "874/874 [==============================] - 0s 16us/step - loss: 0.4723 - accuracy: 0.7632 - val_loss: 0.5093 - val_accuracy: 0.7755\n",
      "Epoch 207/250\n",
      "874/874 [==============================] - 0s 17us/step - loss: 0.4719 - accuracy: 0.7643 - val_loss: 0.5019 - val_accuracy: 0.7857\n",
      "Epoch 208/250\n",
      "874/874 [==============================] - 0s 14us/step - loss: 0.4715 - accuracy: 0.7643 - val_loss: 0.5072 - val_accuracy: 0.7857\n",
      "Epoch 209/250\n",
      "874/874 [==============================] - 0s 19us/step - loss: 0.4712 - accuracy: 0.7643 - val_loss: 0.5025 - val_accuracy: 0.7857\n",
      "Epoch 210/250\n",
      "874/874 [==============================] - 0s 19us/step - loss: 0.4708 - accuracy: 0.7643 - val_loss: 0.5076 - val_accuracy: 0.7857\n",
      "Epoch 211/250\n",
      "874/874 [==============================] - 0s 18us/step - loss: 0.4704 - accuracy: 0.7643 - val_loss: 0.5082 - val_accuracy: 0.7857\n",
      "Epoch 212/250\n",
      "874/874 [==============================] - 0s 17us/step - loss: 0.4700 - accuracy: 0.7643 - val_loss: 0.5012 - val_accuracy: 0.7857\n",
      "Epoch 213/250\n",
      "874/874 [==============================] - 0s 22us/step - loss: 0.4696 - accuracy: 0.7643 - val_loss: 0.5008 - val_accuracy: 0.7857\n",
      "Epoch 214/250\n",
      "874/874 [==============================] - 0s 17us/step - loss: 0.4693 - accuracy: 0.7632 - val_loss: 0.4990 - val_accuracy: 0.7857\n",
      "Epoch 215/250\n",
      "874/874 [==============================] - 0s 13us/step - loss: 0.4688 - accuracy: 0.7643 - val_loss: 0.5056 - val_accuracy: 0.7857\n",
      "Epoch 216/250\n",
      "874/874 [==============================] - 0s 16us/step - loss: 0.4686 - accuracy: 0.7643 - val_loss: 0.5085 - val_accuracy: 0.7755\n",
      "Epoch 217/250\n",
      "874/874 [==============================] - 0s 11us/step - loss: 0.4683 - accuracy: 0.7643 - val_loss: 0.5035 - val_accuracy: 0.7755\n",
      "Epoch 218/250\n",
      "874/874 [==============================] - 0s 15us/step - loss: 0.4679 - accuracy: 0.7643 - val_loss: 0.5114 - val_accuracy: 0.7653\n",
      "Epoch 219/250\n",
      "874/874 [==============================] - 0s 14us/step - loss: 0.4675 - accuracy: 0.7632 - val_loss: 0.5020 - val_accuracy: 0.7755\n",
      "Epoch 220/250\n",
      "874/874 [==============================] - 0s 15us/step - loss: 0.4670 - accuracy: 0.7643 - val_loss: 0.5040 - val_accuracy: 0.7755\n",
      "Epoch 221/250\n",
      "874/874 [==============================] - 0s 15us/step - loss: 0.4667 - accuracy: 0.7677 - val_loss: 0.4935 - val_accuracy: 0.7857\n",
      "Epoch 222/250\n",
      "874/874 [==============================] - 0s 13us/step - loss: 0.4666 - accuracy: 0.7666 - val_loss: 0.5052 - val_accuracy: 0.7755\n",
      "Epoch 223/250\n",
      "874/874 [==============================] - 0s 13us/step - loss: 0.4658 - accuracy: 0.7654 - val_loss: 0.4997 - val_accuracy: 0.7755\n",
      "Epoch 224/250\n",
      "874/874 [==============================] - 0s 14us/step - loss: 0.4654 - accuracy: 0.7666 - val_loss: 0.4983 - val_accuracy: 0.7755\n",
      "Epoch 225/250\n",
      "874/874 [==============================] - 0s 16us/step - loss: 0.4652 - accuracy: 0.7666 - val_loss: 0.5047 - val_accuracy: 0.7755\n",
      "Epoch 226/250\n",
      "874/874 [==============================] - 0s 14us/step - loss: 0.4648 - accuracy: 0.7654 - val_loss: 0.4948 - val_accuracy: 0.7755\n",
      "Epoch 227/250\n",
      "874/874 [==============================] - 0s 15us/step - loss: 0.4647 - accuracy: 0.7643 - val_loss: 0.5056 - val_accuracy: 0.7755\n",
      "Epoch 228/250\n",
      "874/874 [==============================] - 0s 11us/step - loss: 0.4639 - accuracy: 0.7654 - val_loss: 0.5006 - val_accuracy: 0.7755\n",
      "Epoch 229/250\n",
      "874/874 [==============================] - 0s 11us/step - loss: 0.4636 - accuracy: 0.7654 - val_loss: 0.4962 - val_accuracy: 0.7755\n",
      "Epoch 230/250\n",
      "874/874 [==============================] - 0s 17us/step - loss: 0.4634 - accuracy: 0.7666 - val_loss: 0.4881 - val_accuracy: 0.7857\n",
      "Epoch 231/250\n",
      "874/874 [==============================] - 0s 15us/step - loss: 0.4630 - accuracy: 0.7666 - val_loss: 0.4896 - val_accuracy: 0.7755\n",
      "Epoch 232/250\n",
      "874/874 [==============================] - 0s 13us/step - loss: 0.4626 - accuracy: 0.7689 - val_loss: 0.5033 - val_accuracy: 0.7755\n",
      "Epoch 233/250\n",
      "874/874 [==============================] - 0s 16us/step - loss: 0.4626 - accuracy: 0.7620 - val_loss: 0.5110 - val_accuracy: 0.7449\n",
      "Epoch 234/250\n",
      "874/874 [==============================] - 0s 17us/step - loss: 0.4621 - accuracy: 0.7654 - val_loss: 0.4933 - val_accuracy: 0.7755\n",
      "Epoch 235/250\n",
      "874/874 [==============================] - 0s 18us/step - loss: 0.4615 - accuracy: 0.7689 - val_loss: 0.4935 - val_accuracy: 0.7755\n",
      "Epoch 236/250\n",
      "874/874 [==============================] - 0s 16us/step - loss: 0.4612 - accuracy: 0.7689 - val_loss: 0.4921 - val_accuracy: 0.7755\n",
      "Epoch 237/250\n",
      "874/874 [==============================] - 0s 16us/step - loss: 0.4608 - accuracy: 0.7689 - val_loss: 0.4986 - val_accuracy: 0.7755\n",
      "Epoch 238/250\n",
      "874/874 [==============================] - 0s 13us/step - loss: 0.4604 - accuracy: 0.7677 - val_loss: 0.4983 - val_accuracy: 0.7755\n",
      "Epoch 239/250\n",
      "874/874 [==============================] - 0s 17us/step - loss: 0.4601 - accuracy: 0.7700 - val_loss: 0.4892 - val_accuracy: 0.7755\n",
      "Epoch 240/250\n",
      "874/874 [==============================] - 0s 13us/step - loss: 0.4597 - accuracy: 0.7700 - val_loss: 0.4963 - val_accuracy: 0.7755\n",
      "Epoch 241/250\n",
      "874/874 [==============================] - 0s 17us/step - loss: 0.4593 - accuracy: 0.7700 - val_loss: 0.4945 - val_accuracy: 0.7755\n",
      "Epoch 242/250\n",
      "874/874 [==============================] - 0s 16us/step - loss: 0.4590 - accuracy: 0.7689 - val_loss: 0.4985 - val_accuracy: 0.7653\n",
      "Epoch 243/250\n",
      "874/874 [==============================] - 0s 16us/step - loss: 0.4591 - accuracy: 0.7700 - val_loss: 0.4843 - val_accuracy: 0.7959\n",
      "Epoch 244/250\n",
      "874/874 [==============================] - 0s 17us/step - loss: 0.4588 - accuracy: 0.7700 - val_loss: 0.5021 - val_accuracy: 0.7653\n",
      "Epoch 245/250\n",
      "874/874 [==============================] - 0s 16us/step - loss: 0.4581 - accuracy: 0.7700 - val_loss: 0.4961 - val_accuracy: 0.7653\n",
      "Epoch 246/250\n",
      "874/874 [==============================] - 0s 14us/step - loss: 0.4576 - accuracy: 0.7712 - val_loss: 0.4964 - val_accuracy: 0.7653\n",
      "Epoch 247/250\n",
      "874/874 [==============================] - 0s 16us/step - loss: 0.4574 - accuracy: 0.7712 - val_loss: 0.4896 - val_accuracy: 0.7755\n",
      "Epoch 248/250\n",
      "874/874 [==============================] - 0s 16us/step - loss: 0.4571 - accuracy: 0.7712 - val_loss: 0.4853 - val_accuracy: 0.7959\n",
      "Epoch 249/250\n",
      "874/874 [==============================] - 0s 17us/step - loss: 0.4566 - accuracy: 0.7723 - val_loss: 0.4945 - val_accuracy: 0.7653\n",
      "Epoch 250/250\n",
      "874/874 [==============================] - ETA: 0s - loss: 0.4581 - accuracy: 0.78 - 0s 17us/step - loss: 0.4564 - accuracy: 0.7712 - val_loss: 0.4978 - val_accuracy: 0.7653\n"
     ]
    },
    {
     "data": {
      "text/plain": [
       "<keras.callbacks.callbacks.History at 0x13acd4b82b0>"
      ]
     },
     "execution_count": 149,
     "metadata": {},
     "output_type": "execute_result"
    }
   ],
   "source": [
    "model = Sequential() # Initialize the keras model\n",
    "model.add(Dense(12, input_dim=xtrain1.shape[1], activation='relu')) # Input Layer\n",
    "model.add(Dense(8, activation='relu')) # Hidden Layer\n",
    "model.add(Dense(1, activation='sigmoid')) # Output layer\n",
    "sgd_optimizer = optimizers.SGD(lr=0.001, decay=1e-7, momentum=0.9)\n",
    "model.compile(optimizer=sgd_optimizer,loss='binary_crossentropy', metrics=['accuracy'])\n",
    "model.fit(xtrain1, ytrain1, epochs=250, batch_size=100, verbose=1, validation_split=0.1)\n",
    "# After 250 iterations, accuracy = 0.7653"
   ]
  },
  {
   "cell_type": "code",
   "execution_count": 139,
   "metadata": {},
   "outputs": [
    {
     "name": "stdout",
     "output_type": "stream",
     "text": [
      "[0.29411764705882354, 0.6431165401122483, 0.3333333333333333, 0.6666666666666666, 0.35714285714285715, 0.3333333333333333, 1.0, 1.0, 0.0, 0.0, 0.0, 0.0, 1.0, 0.0, 0.0, 0.0, 0.0, 0.0, 0.0, 0.0, 0.0, 0.0, 1.0, 0.0, 0.0, 0.0, 0.0, 1.0, 0.0, 0.0, 0.0, 0.0, 0.0, 1.0, 0.0, 0.0, 0.0, 0.0, 0.0, 1.0, 1.0, 0.0, 0.0, 0.0, 1.0, 0.0, 0.0, 0.0, 1.0, 0.0, 0.0, 1.0, 0.0, 1.0, 0.0, 0.0, 0.0, 0.0, 1.0, 0.0, 1.0] => 0 (expected 0)\n",
      "[0.47058823529411764, 0.08633212281280951, 1.0, 1.0, 0.32142857142857145, 0.0, 0.0, 0.0, 0.0, 0.0, 1.0, 0.0, 0.0, 0.0, 1.0, 0.0, 1.0, 0.0, 0.0, 0.0, 0.0, 0.0, 0.0, 0.0, 0.0, 0.0, 0.0, 1.0, 0.0, 0.0, 0.0, 0.0, 0.0, 1.0, 0.0, 0.0, 0.0, 0.0, 0.0, 1.0, 0.0, 0.0, 1.0, 0.0, 0.0, 0.0, 1.0, 0.0, 0.0, 1.0, 1.0, 0.0, 0.0, 0.0, 1.0, 0.0, 0.0, 0.0, 1.0, 0.0, 1.0] => 0 (expected 0)\n",
      "[0.16176470588235295, 0.06756905469351822, 1.0, 1.0, 0.44642857142857145, 0.3333333333333333, 1.0, 0.0, 1.0, 0.0, 0.0, 0.0, 1.0, 0.0, 0.0, 0.0, 0.0, 0.0, 0.0, 0.0, 0.0, 0.0, 0.0, 1.0, 0.0, 0.0, 0.0, 1.0, 0.0, 0.0, 0.0, 1.0, 0.0, 0.0, 0.0, 0.0, 0.0, 0.0, 0.0, 1.0, 0.0, 0.0, 1.0, 0.0, 1.0, 0.0, 0.0, 0.0, 1.0, 0.0, 0.0, 1.0, 0.0, 0.0, 1.0, 0.0, 0.0, 0.0, 1.0, 0.0, 1.0] => 1 (expected 1)\n",
      "[0.29411764705882354, 0.06965995378012545, 1.0, 0.0, 0.42857142857142855, 0.3333333333333333, 0.0, 0.0, 0.0, 0.0, 1.0, 0.0, 1.0, 0.0, 0.0, 0.0, 0.0, 0.0, 0.0, 0.0, 1.0, 0.0, 0.0, 0.0, 0.0, 0.0, 1.0, 0.0, 0.0, 0.0, 0.0, 0.0, 0.0, 1.0, 0.0, 0.0, 1.0, 0.0, 0.0, 0.0, 0.0, 0.0, 1.0, 0.0, 0.0, 1.0, 0.0, 0.0, 1.0, 0.0, 0.0, 1.0, 0.0, 0.0, 0.0, 0.0, 1.0, 1.0, 0.0, 0.0, 1.0] => 1 (expected 1)\n",
      "[0.07352941176470588, 0.10377462308792781, 0.6666666666666666, 0.3333333333333333, 0.10714285714285714, 0.0, 0.0, 0.0, 1.0, 0.0, 0.0, 0.0, 0.0, 0.0, 1.0, 0.0, 0.0, 0.0, 0.0, 0.0, 0.0, 0.0, 0.0, 1.0, 0.0, 0.0, 0.0, 1.0, 0.0, 0.0, 0.0, 0.0, 0.0, 1.0, 0.0, 0.0, 0.0, 0.0, 0.0, 1.0, 0.0, 0.0, 1.0, 0.0, 0.0, 1.0, 0.0, 0.0, 1.0, 0.0, 0.0, 1.0, 0.0, 0.0, 1.0, 0.0, 0.0, 1.0, 0.0, 0.0, 1.0] => 0 (expected 1)\n"
     ]
    }
   ],
   "source": [
    "predictions = model.predict_classes(xtrain1)\n",
    "for i in range(5):\n",
    "    print('%s => %d (expected %d)' % (xtrain1[i].tolist(), predictions[i], ytrain1[i]))"
   ]
  },
  {
   "cell_type": "code",
   "execution_count": 150,
   "metadata": {},
   "outputs": [
    {
     "name": "stdout",
     "output_type": "stream",
     "text": [
      "972/972 [==============================] - 0s 18us/step\n",
      "Train Loss:  0.46020435526537795\n",
      "Train Accuracy:  0.7716049551963806\n",
      "300/300 [==============================] - 0s 23us/step\n",
      "Test Loss:  0.5577245346705119\n",
      "Test Accuracy:  0.7133333086967468\n"
     ]
    }
   ],
   "source": [
    "train_results = model.evaluate(xtrain1, ytrain1, verbose=1)\n",
    "print('Train Loss: ',train_results[0])\n",
    "print('Train Accuracy: ',train_results[1])\n",
    "test_results = model.evaluate(xtest, ytest, verbose=1)\n",
    "print('Test Loss: ',test_results[0])\n",
    "print('Test Accuracy: ',test_results[1])"
   ]
  },
  {
   "cell_type": "code",
   "execution_count": 151,
   "metadata": {},
   "outputs": [
    {
     "name": "stdout",
     "output_type": "stream",
     "text": [
      "Confusion Matrix:\n",
      "  [[ 59  27]\n",
      " [ 59 155]]\n"
     ]
    }
   ],
   "source": [
    "y_pred=model.predict(xtest)\n",
    "y_pred =(y_pred>0.5)\n",
    "cm = confusion_matrix(ytest, y_pred)\n",
    "print('Confusion Matrix:\\n ',cm) \n",
    "# total of true positive and true negative is 214 out 300 observations in the test dataset\n",
    "# so our accuracy for test dataset is around 71%"
   ]
  },
  {
   "cell_type": "markdown",
   "metadata": {},
   "source": [
    "##### Performance Tuning using Randomized Search "
   ]
  },
  {
   "cell_type": "code",
   "execution_count": null,
   "metadata": {},
   "outputs": [],
   "source": [
    "# German Credit Dataset"
   ]
  },
  {
   "cell_type": "code",
   "execution_count": 120,
   "metadata": {},
   "outputs": [],
   "source": [
    "def keras_mlp_germanc(optimizer,activation,learn_rate,momentum):\n",
    "    model = Sequential()\n",
    "    model.add(Dense(12, input_dim=xtrain1.shape[1], activation=activation))\n",
    "    model.add(Dense(8, activation=activation))\n",
    "    model.add(Dense(1, activation='sigmoid'))\n",
    "    optimizer = optimizers.SGD(lr=learn_rate, decay=1e-7, momentum=0.9)\n",
    "    model.compile(loss='binary_crossentropy', optimizer=optimizer, metrics=['accuracy'])\n",
    "    return model"
   ]
  },
  {
   "cell_type": "code",
   "execution_count": 121,
   "metadata": {},
   "outputs": [],
   "source": [
    "model = KerasClassifier(build_fn=keras_mlp_germanc, verbose=0, epochs=10, batch_size=10)"
   ]
  },
  {
   "cell_type": "code",
   "execution_count": 122,
   "metadata": {},
   "outputs": [],
   "source": [
    "batch_size = [32,64]\n",
    "epochs = [10,100,250]\n",
    "learn_rate = [0.001, 0.01, 0.1]\n",
    "activation = ['relu', 'tanh', 'sigmoid']\n",
    "optimizer = ['SGD', 'Adam']\n",
    "momentum=[0.5,0.8,0.9]\n",
    "param_grid = dict(batch_size=batch_size, epochs=epochs,optimizer=optimizer,learn_rate=learn_rate,activation=activation,momentum=momentum)\n",
    "rand = RandomizedSearchCV(estimator=model, param_distributions=param_grid, n_jobs=-1, cv=5)\n",
    "rand_res = rand.fit(xtrain1, ytrain1)"
   ]
  },
  {
   "cell_type": "code",
   "execution_count": 123,
   "metadata": {},
   "outputs": [
    {
     "name": "stdout",
     "output_type": "stream",
     "text": [
      "Best: 0.813786 using {'optimizer': 'Adam', 'momentum': 0.5, 'learn_rate': 0.1, 'epochs': 250, 'batch_size': 64, 'activation': 'sigmoid'}\n"
     ]
    }
   ],
   "source": [
    "print(\"Best: %f using %s\" % (rand_res.best_score_, rand_res.best_params_))"
   ]
  },
  {
   "cell_type": "markdown",
   "metadata": {},
   "source": [
    "##### ANN - Feed Forward Multi Layer Perceptron"
   ]
  },
  {
   "cell_type": "code",
   "execution_count": 140,
   "metadata": {},
   "outputs": [],
   "source": [
    "def mlp(xtrain, ytrain, xtest, ytest):\n",
    "    mlp = MLPClassifier(solver='lbfgs', alpha=5, hidden_layer_sizes=(75,75))\n",
    "    mlp_model = mlp.fit(xtrain, ytrain)\n",
    "    print(mlp_model.get_params)\n",
    "    ypred1 = mlp_model.predict(xtrain)\n",
    "    ypred = mlp_model.predict(xtest)\n",
    "    cross_val(mlp_model, xtrain, ytrain, ytest, ypred1, ypred)\n",
    "    auc_roc(ytest,ypred)\n",
    "    return"
   ]
  },
  {
   "cell_type": "markdown",
   "metadata": {},
   "source": [
    "##### Parameter tuning "
   ]
  },
  {
   "cell_type": "code",
   "execution_count": 135,
   "metadata": {},
   "outputs": [
    {
     "name": "stdout",
     "output_type": "stream",
     "text": [
      "Best parameters:\n",
      " {'activation': 'relu', 'alpha': 0.01, 'hidden_layer_sizes': (100, 100), 'learning_rate': 'constant', 'solver': 'adam'}\n",
      "Results on the test set:\n",
      "              precision    recall  f1-score   support\n",
      "\n",
      "           0       0.58      0.59      0.59        86\n",
      "           1       0.83      0.83      0.83       214\n",
      "\n",
      "    accuracy                           0.76       300\n",
      "   macro avg       0.71      0.71      0.71       300\n",
      "weighted avg       0.76      0.76      0.76       300\n",
      "\n"
     ]
    }
   ],
   "source": [
    "mlp = MLPClassifier(max_iter=100)\n",
    "parameter_space = {\n",
    "    'hidden_layer_sizes': [(50,50), (75,75), (100,100)],\n",
    "    'activation': ['logistic','tanh', 'relu'],\n",
    "    'solver': ['sgd', 'adam'],\n",
    "    'alpha': [0.0001, 0.01, 0.05],\n",
    "    'learning_rate': ['constant','adaptive'],\n",
    "}\n",
    "model = GridSearchCV(mlp, parameter_space, n_jobs=-1, cv=3)\n",
    "model.fit(xtrain1, ytrain1)\n",
    "print('Best parameters:\\n', model.best_params_)\n",
    "ytrue, ypred = ytest , model.predict(xtest)\n",
    "print('Results on the test set:')\n",
    "print(classification_report(ytrue, ypred))"
   ]
  },
  {
   "cell_type": "markdown",
   "metadata": {},
   "source": [
    "##### ROC and Learning curves "
   ]
  },
  {
   "cell_type": "code",
   "execution_count": 9,
   "metadata": {},
   "outputs": [
    {
     "name": "stdout",
     "output_type": "stream",
     "text": [
      "<bound method BaseEstimator.get_params of MLPClassifier(activation='relu', alpha=5, batch_size='auto', beta_1=0.9,\n",
      "              beta_2=0.999, early_stopping=False, epsilon=1e-08,\n",
      "              hidden_layer_sizes=(75, 75), learning_rate='constant',\n",
      "              learning_rate_init=0.001, max_iter=200, momentum=0.9,\n",
      "              n_iter_no_change=10, nesterovs_momentum=True, power_t=0.5,\n",
      "              random_state=None, shuffle=True, solver='lbfgs', tol=0.0001,\n",
      "              validation_fraction=0.1, verbose=False, warm_start=False)>\n",
      "Train Error:  0.12429419429564215\n",
      "Test Error:  0.1567302820469515\n",
      "CV Accuracy: 0.84 (+/- 0.01)\n",
      "CV Precision: 0.84 (+/- 0.01)\n",
      "CV Recall: 0.81 (+/- 0.02)\n",
      "CV roc_auc: 0.92 (+/- 0.01)\n",
      "[[2772  411]\n",
      " [ 517 2221]]\n"
     ]
    },
    {
     "data": {
      "image/png": "[encoded data removed]",
      "text/plain": [
       "<Figure size 432x288 with 1 Axes>"
      ]
     },
     "metadata": {
      "needs_background": "light"
     },
     "output_type": "display_data"
    }
   ],
   "source": [
    "mlp(xtrain_app_energy, ytrain_app_energy, xtest_app_energy, ytest_app_energy)"
   ]
  },
  {
   "cell_type": "code",
   "execution_count": 14,
   "metadata": {},
   "outputs": [
    {
     "data": {
      "text/plain": [
       "<module 'matplotlib.pyplot' from 'C:\\\\Users\\\\himaj\\\\Anaconda3\\\\lib\\\\site-packages\\\\matplotlib\\\\pyplot.py'>"
      ]
     },
     "execution_count": 14,
     "metadata": {},
     "output_type": "execute_result"
    },
    {
     "data": {
      "image/png": "[encoded data removed]",
      "text/plain": [
       "<Figure size 432x288 with 1 Axes>"
      ]
     },
     "metadata": {
      "needs_background": "light"
     },
     "output_type": "display_data"
    }
   ],
   "source": [
    "learning_curves(MLPClassifier(solver='lbfgs'),'Learning Curve of Neural Nets - Appliances Data', xtrain_app_energy,ytrain_app_energy)"
   ]
  },
  {
   "cell_type": "code",
   "execution_count": 141,
   "metadata": {},
   "outputs": [
    {
     "name": "stdout",
     "output_type": "stream",
     "text": [
      "<bound method BaseEstimator.get_params of MLPClassifier(activation='relu', alpha=0.01, batch_size='auto', beta_1=0.9,\n",
      "              beta_2=0.999, early_stopping=False, epsilon=1e-08,\n",
      "              hidden_layer_sizes=(100, 100), learning_rate='constant',\n",
      "              learning_rate_init=0.001, max_iter=200, momentum=0.9,\n",
      "              n_iter_no_change=10, nesterovs_momentum=True, power_t=0.5,\n",
      "              random_state=None, shuffle=True, solver='adam', tol=0.0001,\n",
      "              validation_fraction=0.1, verbose=False, warm_start=False)>\n",
      "Train Error:  0.0\n",
      "Test Error:  0.27\n",
      "CV Accuracy: 0.85 (+/- 0.07)\n",
      "CV Precision: 0.89 (+/- 0.11)\n",
      "CV Recall: 0.78 (+/- 0.05)\n",
      "CV roc_auc: 0.90 (+/- 0.06)\n",
      "[[ 51  35]\n",
      " [ 46 168]]\n"
     ]
    },
    {
     "data": {
      "image/png": "[encoded data removed]",
      "text/plain": [
       "<Figure size 432x288 with 1 Axes>"
      ]
     },
     "metadata": {
      "needs_background": "light"
     },
     "output_type": "display_data"
    }
   ],
   "source": [
    "mlp(xtrain1, ytrain1, xtest, ytest)"
   ]
  },
  {
   "cell_type": "code",
   "execution_count": 142,
   "metadata": {},
   "outputs": [
    {
     "data": {
      "text/plain": [
       "<module 'matplotlib.pyplot' from 'C:\\\\Users\\\\himaj\\\\Anaconda3\\\\lib\\\\site-packages\\\\matplotlib\\\\pyplot.py'>"
      ]
     },
     "execution_count": 142,
     "metadata": {},
     "output_type": "execute_result"
    },
    {
     "data": {
      "image/png": "[encoded data removed]",
      "text/plain": [
       "<Figure size 432x288 with 1 Axes>"
      ]
     },
     "metadata": {
      "needs_background": "light"
     },
     "output_type": "display_data"
    }
   ],
   "source": [
    "learning_curves(MLPClassifier(activation='relu', alpha=0.01,solver='adam',hidden_layer_sizes=(100,100)),'Learning Curve of Neural Nets - German Credit Data', xtrain1,ytrain1)"
   ]
  },
  {
   "cell_type": "markdown",
   "metadata": {},
   "source": [
    "##### KNN "
   ]
  },
  {
   "cell_type": "code",
   "execution_count": 152,
   "metadata": {},
   "outputs": [],
   "source": [
    "def knn(xtrain, ytrain, xtest, ytest):  \n",
    "    knn = KNeighborsClassifier(n_neighbors=3,metric=\"euclidean\")\n",
    "    knn_model = knn.fit(xtrain, ytrain)\n",
    "    print(knn_model.get_params)\n",
    "    ypred1 = knn_model.predict(xtrain)\n",
    "    ypred = knn_model.predict(xtest)\n",
    "    cross_val(knn_model, xtrain, ytrain, ytest, ypred1, ypred)\n",
    "    auc_roc(ytest,ypred)\n",
    "    return"
   ]
  },
  {
   "cell_type": "markdown",
   "metadata": {},
   "source": [
    "##### KNN Implementation"
   ]
  },
  {
   "cell_type": "markdown",
   "metadata": {},
   "source": [
    "##### Parameter tuning using cross-validation "
   ]
  },
  {
   "cell_type": "code",
   "execution_count": 64,
   "metadata": {},
   "outputs": [
    {
     "name": "stdout",
     "output_type": "stream",
     "text": [
      "[0.8691179833919598, 0.8559433171260062, 0.8694807207936833, 0.8567390044113985, 0.8607205779315128, 0.8457356821121511, 0.8537713983943102, 0.8416102288249409, 0.8467494928059824, 0.8421889952340635, 0.8430580876729763, 0.8352391865657932, 0.8376280786455478, 0.831040588589719, 0.833792061034688, 0.827276772766723, 0.8295203707657673, 0.825755873794544, 0.8277831282585412, 0.8230055012113129, 0.8230784362403355, 0.8178662895505171, 0.8188069031594672, 0.8152600589417842, 0.8168527408367734, 0.8150425629974386, 0.81692499479334, 0.8138848725365113, 0.8138849771770034, 0.8112790609443751]\n"
     ]
    },
    {
     "data": {
      "text/plain": [
       "Text(0, 0.5, 'Cross-Validated Accuracy')"
      ]
     },
     "execution_count": 64,
     "metadata": {},
     "output_type": "execute_result"
    },
    {
     "data": {
      "image/png": "[encoded data removed]",
      "text/plain": [
       "<Figure size 432x288 with 1 Axes>"
      ]
     },
     "metadata": {
      "needs_background": "light"
     },
     "output_type": "display_data"
    }
   ],
   "source": [
    "# Appliances Energy Dataset\n",
    "k_range = range(1,31)\n",
    "k_scores = []\n",
    "#n = np.shape(xtrain1)[0]\n",
    "for k in k_range:\n",
    "    knn = KNeighborsClassifier(n_neighbors=k)\n",
    "    scores = cross_val_score(knn, xtrain_app_energy, ytrain_app_energy, cv=10, scoring='accuracy')\n",
    "    k_scores.append(scores.mean())\n",
    "print(k_scores)\n",
    "plt.plot(k_range, k_scores)\n",
    "plt.xlabel('k')\n",
    "plt.ylabel('Cross-Validated Accuracy')"
   ]
  },
  {
   "cell_type": "code",
   "execution_count": 72,
   "metadata": {},
   "outputs": [
    {
     "name": "stdout",
     "output_type": "stream",
     "text": [
      "[0.8269982993197278, 0.7425807823129251, 0.7776998299319728, 0.7323979591836735, 0.7509353741496598, 0.7221726190476192, 0.7396045918367347, 0.7211309523809524, 0.7356292517006804, 0.7160501700680273, 0.7313562925170067, 0.7190263605442176, 0.7231930272108843, 0.7118409863945578, 0.7107993197278911, 0.7076955782312926, 0.7180059523809523, 0.7045705782312924, 0.7056335034013606, 0.6994897959183672, 0.7005527210884354, 0.69640731292517, 0.698469387755102, 0.6943027210884354, 0.6994260204081633, 0.6984481292517006, 0.7035501700680272, 0.6932823129251702, 0.7036352040816327, 0.6943664965986394]\n"
     ]
    },
    {
     "data": {
      "text/plain": [
       "Text(0, 0.5, 'Cross-Validated Accuracy')"
      ]
     },
     "execution_count": 72,
     "metadata": {},
     "output_type": "execute_result"
    },
    {
     "data": {
      "image/png": "[encoded data removed]",
      "text/plain": [
       "<Figure size 432x288 with 1 Axes>"
      ]
     },
     "metadata": {
      "needs_background": "light"
     },
     "output_type": "display_data"
    }
   ],
   "source": [
    "# German Credit Dataset\n",
    "k_range = range(1,31)\n",
    "k_scores = []\n",
    "#n = np.shape(xtrain1)[0]\n",
    "for k in k_range:\n",
    "    knn = KNeighborsClassifier(n_neighbors=k)\n",
    "    scores = cross_val_score(knn, xtrain1, ytrain1, cv=10, scoring='accuracy')\n",
    "    k_scores.append(scores.mean())\n",
    "print(k_scores)\n",
    "plt.plot(k_range, k_scores)\n",
    "plt.xlabel('k')\n",
    "plt.ylabel('Cross-Validated Accuracy')"
   ]
  },
  {
   "cell_type": "markdown",
   "metadata": {},
   "source": [
    "##### Parameter Tuning using Randomized Search CV "
   ]
  },
  {
   "cell_type": "code",
   "execution_count": 63,
   "metadata": {},
   "outputs": [
    {
     "name": "stdout",
     "output_type": "stream",
     "text": [
      "0.8715795569711886\n",
      "{'weights': 'distance', 'n_neighbors': 10}\n",
      "KNeighborsClassifier(algorithm='auto', leaf_size=30, metric='minkowski',\n",
      "                     metric_params=None, n_jobs=None, n_neighbors=10, p=2,\n",
      "                     weights='distance')\n"
     ]
    }
   ],
   "source": [
    "# Appliances Energy Dataset\n",
    "k = list(range(1, 31))\n",
    "weights = ['uniform', 'distance']\n",
    "param_dist = dict(n_neighbors=k, weights=weights)\n",
    "knn = KNeighborsClassifier(n_neighbors=k)\n",
    "rand = RandomizedSearchCV(knn, param_dist, cv=10, scoring='accuracy', n_iter=10, random_state=5)\n",
    "rand.fit(xtrain_app_energy,ytrain_app_energy)\n",
    "print(rand.best_score_)\n",
    "print(rand.best_params_)\n",
    "print(rand.best_estimator_)"
   ]
  },
  {
   "cell_type": "code",
   "execution_count": 62,
   "metadata": {},
   "outputs": [
    {
     "name": "stdout",
     "output_type": "stream",
     "text": [
      "0.7685185185185185\n",
      "{'weights': 'distance', 'n_neighbors': 10}\n",
      "KNeighborsClassifier(algorithm='auto', leaf_size=30, metric='minkowski',\n",
      "                     metric_params=None, n_jobs=None, n_neighbors=10, p=2,\n",
      "                     weights='distance')\n"
     ]
    }
   ],
   "source": [
    "# German Credit Dataset\n",
    "k = list(range(1, 31))\n",
    "weights = ['uniform', 'distance']\n",
    "param_dist = dict(n_neighbors=k, weights=weights)\n",
    "knn = KNeighborsClassifier(n_neighbors=k)\n",
    "rand = RandomizedSearchCV(knn, param_dist, cv=10, scoring='accuracy', n_iter=10, random_state=5)\n",
    "rand.fit(xtrain1,ytrain1)\n",
    "print(rand.best_score_)\n",
    "print(rand.best_params_)\n",
    "print(rand.best_estimator_)"
   ]
  },
  {
   "cell_type": "markdown",
   "metadata": {},
   "source": [
    "##### ROC and Learning Curves "
   ]
  },
  {
   "cell_type": "code",
   "execution_count": 18,
   "metadata": {},
   "outputs": [
    {
     "name": "stdout",
     "output_type": "stream",
     "text": [
      "Train Error:  0.06536846677283914\n",
      "Test Error:  0.12869447728424255\n",
      "CV Accuracy: 0.87 (+/- 0.01)\n",
      "CV Precision: 0.86 (+/- 0.01)\n",
      "CV Recall: 0.85 (+/- 0.01)\n",
      "CV roc_auc: 0.92 (+/- 0.00)\n",
      "[[2857  326]\n",
      " [ 436 2302]]\n"
     ]
    },
    {
     "data": {
      "image/png": "[encoded data removed]",
      "text/plain": [
       "<Figure size 432x288 with 1 Axes>"
      ]
     },
     "metadata": {
      "needs_background": "light"
     },
     "output_type": "display_data"
    }
   ],
   "source": [
    "knn(xtrain_app_energy, ytrain_app_energy, xtest_app_energy, ytest_app_energy)"
   ]
  },
  {
   "cell_type": "code",
   "execution_count": 19,
   "metadata": {},
   "outputs": [
    {
     "data": {
      "text/plain": [
       "<module 'matplotlib.pyplot' from 'C:\\\\Users\\\\himaj\\\\Anaconda3\\\\lib\\\\site-packages\\\\matplotlib\\\\pyplot.py'>"
      ]
     },
     "execution_count": 19,
     "metadata": {},
     "output_type": "execute_result"
    },
    {
     "data": {
      "image/png": "[encoded data removed]",
      "text/plain": [
       "<Figure size 432x288 with 1 Axes>"
      ]
     },
     "metadata": {
      "needs_background": "light"
     },
     "output_type": "display_data"
    }
   ],
   "source": [
    "learning_curves(KNeighborsClassifier(n_neighbors=3),'Learning Curve of KNN - Appliances Data', xtrain_app_energy,ytrain_app_energy)"
   ]
  },
  {
   "cell_type": "code",
   "execution_count": 153,
   "metadata": {},
   "outputs": [
    {
     "name": "stdout",
     "output_type": "stream",
     "text": [
      "<bound method BaseEstimator.get_params of KNeighborsClassifier(algorithm='auto', leaf_size=30, metric='euclidean',\n",
      "                     metric_params=None, n_jobs=None, n_neighbors=3, p=2,\n",
      "                     weights='uniform')>\n",
      "Train Error:  0.11831275720164613\n",
      "Test Error:  0.37\n",
      "CV Accuracy: 0.76 (+/- 0.05)\n",
      "CV Precision: 0.89 (+/- 0.08)\n",
      "CV Recall: 0.60 (+/- 0.08)\n",
      "CV roc_auc: 0.85 (+/- 0.06)\n",
      "[[ 64  22]\n",
      " [ 89 125]]\n"
     ]
    },
    {
     "data": {
      "image/png": "[encoded data removed]",
      "text/plain": [
       "<Figure size 432x288 with 1 Axes>"
      ]
     },
     "metadata": {
      "needs_background": "light"
     },
     "output_type": "display_data"
    }
   ],
   "source": [
    "knn(xtrain1, ytrain1, xtest, ytest)"
   ]
  },
  {
   "cell_type": "code",
   "execution_count": 21,
   "metadata": {},
   "outputs": [
    {
     "data": {
      "text/plain": [
       "<module 'matplotlib.pyplot' from 'C:\\\\Users\\\\himaj\\\\Anaconda3\\\\lib\\\\site-packages\\\\matplotlib\\\\pyplot.py'>"
      ]
     },
     "execution_count": 21,
     "metadata": {},
     "output_type": "execute_result"
    },
    {
     "data": {
      "image/png": "[encoded data removed]",
      "text/plain": [
       "<Figure size 432x288 with 1 Axes>"
      ]
     },
     "metadata": {
      "needs_background": "light"
     },
     "output_type": "display_data"
    }
   ],
   "source": [
    "learning_curves(KNeighborsClassifier(n_neighbors=3),'Learning Curve of KNN - German Credit Data', xtrain1,ytrain1)"
   ]
  }
 ],
 "metadata": {
  "kernelspec": {
   "display_name": "Python 3",
   "language": "python",
   "name": "python3"
  },
  "language_info": {
   "codemirror_mode": {
    "name": "ipython",
    "version": 3
   },
   "file_extension": ".py",
   "mimetype": "text/x-python",
   "name": "python",
   "nbconvert_exporter": "python",
   "pygments_lexer": "ipython3",
   "version": "3.7.3"
  }
 },
 "nbformat": 4,
 "nbformat_minor": 2
}
